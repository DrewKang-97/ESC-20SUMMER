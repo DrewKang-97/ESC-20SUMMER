{
 "cells": [
  {
   "cell_type": "markdown",
   "metadata": {},
   "source": [
    "# Q1)"
   ]
  },
  {
   "cell_type": "markdown",
   "metadata": {},
   "source": [
    "Type 1 error는 false인 H0를 accept하는 것, 즉 FP 사건<br>\n",
    "Type 2 error는 true인 H0를 reject하는 것, 즉 FN 사건<br>\n",
    "<br>\n",
    "회원가입의 threshold가 낮은 경우는 FP rate가 높고 FN rate가 낮은 경우이기 때문에<br>\n",
    "Type 1 error 발생 가능성이 높은 것"
   ]
  },
  {
   "cell_type": "markdown",
   "metadata": {},
   "source": [
    "# Q2-1)"
   ]
  },
  {
   "cell_type": "markdown",
   "metadata": {},
   "source": [
    "Accuracy(정확도) = $\\frac {TP + TN} {TP + FN + FP + TN}$<br>\n",
    "=> 전체 예측 중 True를 True로, False를 False로 옳게 예측한 비율<br>\n",
    "<br>\n",
    "Precision(정밀도) = $\\frac {TP} {TP + FP}$<br>\n",
    "=> True로 예측한 것 중 실제 True의 비율<br>\n",
    "<br>\n",
    "Recall(재현율) = $\\frac {TP} {TP + FN}$<br>\n",
    "=>실제 True 중 True로 예측한 것의 비율"
   ]
  },
  {
   "cell_type": "markdown",
   "metadata": {},
   "source": [
    "# Q2-2)"
   ]
  },
  {
   "cell_type": "markdown",
   "metadata": {},
   "source": [
    "일기예보<br>\n",
    "<br>\n",
    "비가 오는 사건을 True라고 했을 때,<br>\n",
    "일기예보에서 비가 온다고 예측했는데 실제로 비가 온 날의 비율이 Precision,<br>\n",
    "실제로 비가 온 날 중 일기예보에서 비를 예측한 날의 비율이 Recall<br>\n",
    "<br>\n",
    "이 예시에서 성공확률의 threshold를 높인다는 건 일기예보의 비 예측을 믿지 않는 것이다<br>\n",
    "우산을 가지고 나갔는데 비가 안 오는 건 큰 상관이 없는 데 비해 비가 오는데 우산이 없는 건 대참사이므로 이 예시에서는 threshold를 높이는 것이 비합리적이다"
   ]
  },
  {
   "cell_type": "markdown",
   "metadata": {},
   "source": [
    "# Q3)"
   ]
  },
  {
   "cell_type": "markdown",
   "metadata": {},
   "source": [
    "## Exploring the Data"
   ]
  },
  {
   "cell_type": "code",
   "execution_count": 1,
   "metadata": {},
   "outputs": [],
   "source": [
    "#Imports\n",
    "import numpy as np\n",
    "import matplotlib.pyplot as plt\n",
    "%matplotlib inline\n",
    "import torch\n",
    "import torch.nn as nn\n",
    "import torchvision.transforms as transforms\n",
    "from torch.autograd import Variable"
   ]
  },
  {
   "cell_type": "code",
   "execution_count": 2,
   "metadata": {},
   "outputs": [
    {
     "data": {
      "text/plain": [
       "(60000, 10000)"
      ]
     },
     "execution_count": 2,
     "metadata": {},
     "output_type": "execute_result"
    }
   ],
   "source": [
    "#MNIST dataset\n",
    "from torchvision.datasets import MNIST\n",
    "\n",
    "train_dataset = MNIST(root='MNIST_data')\n",
    "test_dataset = MNIST(root='MNIST_data', train=False)\n",
    "\n",
    "len(train_dataset), len(test_dataset)"
   ]
  },
  {
   "cell_type": "code",
   "execution_count": 3,
   "metadata": {},
   "outputs": [
    {
     "name": "stdout",
     "output_type": "stream",
     "text": [
      "Label: 5\n"
     ]
    },
    {
     "data": {
      "image/png": "[encoded data removed]",
      "text/plain": [
       "<Figure size 432x288 with 1 Axes>"
      ]
     },
     "metadata": {
      "needs_background": "light"
     },
     "output_type": "display_data"
    }
   ],
   "source": [
    "#Image sample\n",
    "image, label = train_dataset[0]\n",
    "plt.imshow(image)\n",
    "print('Label:', label)"
   ]
  },
  {
   "cell_type": "code",
   "execution_count": 4,
   "metadata": {},
   "outputs": [
    {
     "name": "stdout",
     "output_type": "stream",
     "text": [
      "Label: 3\n"
     ]
    },
    {
     "data": {
      "image/png": "[encoded data removed]",
      "text/plain": [
       "<Figure size 432x288 with 1 Axes>"
      ]
     },
     "metadata": {
      "needs_background": "light"
     },
     "output_type": "display_data"
    }
   ],
   "source": [
    "image, label = train_dataset[10]\n",
    "plt.imshow(image)\n",
    "print('Label:', label)"
   ]
  },
  {
   "cell_type": "code",
   "execution_count": 5,
   "metadata": {},
   "outputs": [],
   "source": [
    "#Transform image to pytorch via ToTensor()\n",
    "train_dataset = MNIST(root='MNIST_data', train=True,\n",
    "                      transform=transforms.ToTensor())\n",
    "test_dataset = MNIST(root='MNIST_data', train=False,\n",
    "                      transform=transforms.ToTensor())"
   ]
  },
  {
   "cell_type": "code",
   "execution_count": 6,
   "metadata": {},
   "outputs": [
    {
     "name": "stdout",
     "output_type": "stream",
     "text": [
      "torch.Size([1, 28, 28]) 5\n"
     ]
    }
   ],
   "source": [
    "#Tensor sample size\n",
    "img_tensor, label = train_dataset[0]\n",
    "print(img_tensor.shape, label)"
   ]
  },
  {
   "cell_type": "code",
   "execution_count": 7,
   "metadata": {},
   "outputs": [
    {
     "name": "stdout",
     "output_type": "stream",
     "text": [
      "tensor([[[0.0039, 0.6039, 0.9922, 0.3529, 0.0000],\n",
      "         [0.0000, 0.5451, 0.9922, 0.7451, 0.0078],\n",
      "         [0.0000, 0.0431, 0.7451, 0.9922, 0.2745],\n",
      "         [0.0000, 0.0000, 0.1373, 0.9451, 0.8824],\n",
      "         [0.0000, 0.0000, 0.0000, 0.3176, 0.9412]]]) tensor(1.) tensor(0.)\n"
     ]
    }
   ],
   "source": [
    "#Tensor sample values\n",
    "print(img_tensor[:, 10:15, 10:15], torch.max(img_tensor), torch.min(img_tensor))"
   ]
  },
  {
   "cell_type": "code",
   "execution_count": 8,
   "metadata": {},
   "outputs": [
    {
     "data": {
      "text/plain": [
       "<matplotlib.image.AxesImage at 0x1e348de0be0>"
      ]
     },
     "execution_count": 8,
     "metadata": {},
     "output_type": "execute_result"
    },
    {
     "data": {
      "image/png": "[encoded data removed]",
      "text/plain": [
       "<Figure size 432x288 with 1 Axes>"
      ]
     },
     "metadata": {
      "needs_background": "light"
     },
     "output_type": "display_data"
    }
   ],
   "source": [
    "#Show(plot) tensor as image\n",
    "plt.imshow(img_tensor[0], cmap='gray')"
   ]
  },
  {
   "cell_type": "markdown",
   "metadata": {},
   "source": [
    "## Modeling"
   ]
  },
  {
   "cell_type": "code",
   "execution_count": 9,
   "metadata": {},
   "outputs": [],
   "source": [
    "#Set parameters\n",
    "input_size = 28 * 28\n",
    "num_classes = 10\n",
    "num_epochs = 5\n",
    "batch_size = 100"
   ]
  },
  {
   "cell_type": "code",
   "execution_count": 10,
   "metadata": {},
   "outputs": [],
   "source": [
    "#Dataset loader\n",
    "from torch.utils.data.dataloader import DataLoader\n",
    "\n",
    "train_loader = DataLoader(dataset=train_dataset, batch_size=batch_size, shuffle=True)\n",
    "test_loader = DataLoader(dataset=test_dataset, batch_size=batch_size, shuffle=False)"
   ]
  },
  {
   "cell_type": "code",
   "execution_count": 11,
   "metadata": {},
   "outputs": [],
   "source": [
    "class LogisticRegression(nn.Module):\n",
    "    #Instantiate\n",
    "    def __init__(self, input_size, num_classes):\n",
    "        super(LogisticRegression, self).__init__()\n",
    "        self.linear = nn.Linear(input_size, num_classes)\n",
    "    \n",
    "    #Pass input tensor into self.linear\n",
    "    def forward(self, x):\n",
    "        out = self.linear(x)\n",
    "        return out\n",
    "    \n",
    "model = LogisticRegression(input_size, num_classes)"
   ]
  },
  {
   "cell_type": "code",
   "execution_count": 12,
   "metadata": {},
   "outputs": [],
   "source": [
    "#Loss & Optimizer\n",
    "criterion = nn.CrossEntropyLoss()\n",
    "optimizer = torch.optim.SGD(model.parameters(), lr=0.001)"
   ]
  },
  {
   "cell_type": "code",
   "execution_count": 13,
   "metadata": {},
   "outputs": [
    {
     "name": "stdout",
     "output_type": "stream",
     "text": [
      "Epoch: [ 1/ 5], Step: [ 100/ 600], Loss: 2.2241\n",
      "Epoch: [ 1/ 5], Step: [ 200/ 600], Loss: 2.0895\n",
      "Epoch: [ 1/ 5], Step: [ 300/ 600], Loss: 2.0156\n",
      "Epoch: [ 1/ 5], Step: [ 400/ 600], Loss: 1.9285\n",
      "Epoch: [ 1/ 5], Step: [ 500/ 600], Loss: 1.9020\n",
      "Epoch: [ 1/ 5], Step: [ 600/ 600], Loss: 1.8060\n",
      "Epoch: [ 2/ 5], Step: [ 100/ 600], Loss: 1.6553\n",
      "Epoch: [ 2/ 5], Step: [ 200/ 600], Loss: 1.6352\n",
      "Epoch: [ 2/ 5], Step: [ 300/ 600], Loss: 1.6412\n",
      "Epoch: [ 2/ 5], Step: [ 400/ 600], Loss: 1.6176\n",
      "Epoch: [ 2/ 5], Step: [ 500/ 600], Loss: 1.5353\n",
      "Epoch: [ 2/ 5], Step: [ 600/ 600], Loss: 1.4439\n",
      "Epoch: [ 3/ 5], Step: [ 100/ 600], Loss: 1.4588\n",
      "Epoch: [ 3/ 5], Step: [ 200/ 600], Loss: 1.3337\n",
      "Epoch: [ 3/ 5], Step: [ 300/ 600], Loss: 1.3691\n",
      "Epoch: [ 3/ 5], Step: [ 400/ 600], Loss: 1.3639\n",
      "Epoch: [ 3/ 5], Step: [ 500/ 600], Loss: 1.1975\n",
      "Epoch: [ 3/ 5], Step: [ 600/ 600], Loss: 1.2898\n",
      "Epoch: [ 4/ 5], Step: [ 100/ 600], Loss: 1.2401\n",
      "Epoch: [ 4/ 5], Step: [ 200/ 600], Loss: 1.2479\n",
      "Epoch: [ 4/ 5], Step: [ 300/ 600], Loss: 1.1562\n",
      "Epoch: [ 4/ 5], Step: [ 400/ 600], Loss: 1.2162\n",
      "Epoch: [ 4/ 5], Step: [ 500/ 600], Loss: 1.0162\n",
      "Epoch: [ 4/ 5], Step: [ 600/ 600], Loss: 0.9586\n",
      "Epoch: [ 5/ 5], Step: [ 100/ 600], Loss: 0.9521\n",
      "Epoch: [ 5/ 5], Step: [ 200/ 600], Loss: 1.1059\n",
      "Epoch: [ 5/ 5], Step: [ 300/ 600], Loss: 0.9724\n",
      "Epoch: [ 5/ 5], Step: [ 400/ 600], Loss: 1.1126\n",
      "Epoch: [ 5/ 5], Step: [ 500/ 600], Loss: 1.0466\n",
      "Epoch: [ 5/ 5], Step: [ 600/ 600], Loss: 1.0334\n"
     ]
    }
   ],
   "source": [
    "#Model Training\n",
    "for epoch in range(num_epochs):\n",
    "    for i, (images, labels) in enumerate(train_loader):\n",
    "        images = Variable(images.view(-1, 28*28)) \n",
    "        labels = Variable(labels)\n",
    "        \n",
    "        #Optimize\n",
    "        optimizer.zero_grad()\n",
    "        outputs = model(images)\n",
    "        loss = criterion(outputs, labels)\n",
    "        loss.backward()\n",
    "        optimizer.step()\n",
    "    \n",
    "        if (i + 1) % 100 == 0:\n",
    "            print('Epoch: [% d/% d], Step: [% d/% d], Loss: %.4f'\n",
    "                  % (epoch + 1, num_epochs,\n",
    "                     i + 1, len(train_dataset) // batch_size,\n",
    "                     loss.data))"
   ]
  },
  {
   "cell_type": "markdown",
   "metadata": {},
   "source": [
    "## Model Testing"
   ]
  },
  {
   "cell_type": "code",
   "execution_count": 14,
   "metadata": {},
   "outputs": [
    {
     "name": "stderr",
     "output_type": "stream",
     "text": [
      "..\\aten\\src\\ATen\\native\\BinaryOps.cpp:81: UserWarning: Integer division of tensors using div or / is deprecated, and in a future release div will perform true division as in Python 3. Use true_divide or floor_divide (// in Python) instead.\n"
     ]
    },
    {
     "name": "stdout",
     "output_type": "stream",
     "text": [
      "Accuracy:  82 %\n"
     ]
    }
   ],
   "source": [
    "correct = 0\n",
    "total = 0\n",
    "for images, labels in test_loader:\n",
    "    images = Variable(images.view(-1, 28*28))\n",
    "    outputs = model(images)\n",
    "    _, predicted = torch.max(outputs.data, 1)\n",
    "    total += labels.size(0)\n",
    "    correct += (predicted == labels).sum()\n",
    "\n",
    "print('Accuracy: % d %%' % (100 * correct / total))"
   ]
  },
  {
   "cell_type": "markdown",
   "metadata": {},
   "source": [
    "# Q4-1)"
   ]
  },
  {
   "cell_type": "markdown",
   "metadata": {},
   "source": [
    "optim.SGD는 매 epoch이 끝날 때마다 업데이트 되는 weight를 자동으로 계산해준다. 따라서 optim.SGD를 사용하지 않으려면 gradient descent 알고리즘을 짜서 직접 weight를 일일히 계산해주면 된다."
   ]
  },
  {
   "cell_type": "markdown",
   "metadata": {},
   "source": [
    "## Q4-2)"
   ]
  },
  {
   "cell_type": "markdown",
   "metadata": {},
   "source": [
    "## 기존(SGD)"
   ]
  },
  {
   "cell_type": "code",
   "execution_count": 15,
   "metadata": {},
   "outputs": [
    {
     "name": "stdout",
     "output_type": "stream",
     "text": [
      "Epoch    0/1000, W: 0.311, b: -0.145 Cost: 3.333758\n",
      "Epoch  100/1000, W: 0.954, b: 0.104 Cost: 0.001555\n",
      "Epoch  200/1000, W: 0.964, b: 0.082 Cost: 0.000961\n",
      "Epoch  300/1000, W: 0.972, b: 0.064 Cost: 0.000594\n",
      "Epoch  400/1000, W: 0.978, b: 0.050 Cost: 0.000367\n",
      "Epoch  500/1000, W: 0.983, b: 0.040 Cost: 0.000227\n",
      "Epoch  600/1000, W: 0.986, b: 0.031 Cost: 0.000140\n",
      "Epoch  700/1000, W: 0.989, b: 0.025 Cost: 0.000087\n",
      "Epoch  800/1000, W: 0.992, b: 0.019 Cost: 0.000053\n",
      "Epoch  900/1000, W: 0.993, b: 0.015 Cost: 0.000033\n",
      "Epoch 1000/1000, W: 0.995, b: 0.012 Cost: 0.000020\n"
     ]
    }
   ],
   "source": [
    "x_train = torch.FloatTensor([[1], [2], [3]])\n",
    "y_train = torch.FloatTensor([[1], [2], [3]])\n",
    "\n",
    "class LinearRegressionModel(nn.Module):\n",
    "    def __init__(self):\n",
    "        super().__init__()\n",
    "        self.linear = nn.Linear(1, 1)\n",
    "\n",
    "    def forward(self, x):\n",
    "        return self.linear(x)\n",
    "\n",
    "model = LinearRegressionModel()\n",
    "\n",
    "optimizer = torch.optim.SGD(model.parameters(), lr=0.01)\n",
    "num_epochs = 1000\n",
    "\n",
    "for epoch in range(num_epochs + 1):\n",
    "    prediction = model(x_train)\n",
    "    cost = torch.nn.functional.mse_loss(prediction, y_train)\n",
    "    optimizer.zero_grad()\n",
    "    cost.backward()\n",
    "    optimizer.step()\n",
    "    if epoch % 100 == 0:\n",
    "        params = list(model.parameters())\n",
    "        W = params[0].item()\n",
    "        b = params[1].item()\n",
    "        print('Epoch {:4d}/{}, W: {:.3f}, b: {:.3f} Cost: {:.6f}'.format\n",
    "              (epoch, num_epochs, W, b, cost.item()))"
   ]
  },
  {
   "cell_type": "markdown",
   "metadata": {},
   "source": [
    "## Adam을 사용해보았다"
   ]
  },
  {
   "cell_type": "code",
   "execution_count": 16,
   "metadata": {},
   "outputs": [
    {
     "name": "stdout",
     "output_type": "stream",
     "text": [
      "Epoch    0/1000 W: -0.159, b: 0.218 Cost: 5.448156\n",
      "Epoch  100/1000 W: 0.522, b: 0.862 Cost: 0.164412\n",
      "Epoch  200/1000 W: 0.626, b: 0.829 Cost: 0.100215\n",
      "Epoch  300/1000 W: 0.677, b: 0.715 Cost: 0.074468\n",
      "Epoch  400/1000 W: 0.731, b: 0.596 Cost: 0.051887\n",
      "Epoch  500/1000 W: 0.782, b: 0.483 Cost: 0.034044\n",
      "Epoch  600/1000 W: 0.828, b: 0.380 Cost: 0.021076\n",
      "Epoch  700/1000 W: 0.869, b: 0.290 Cost: 0.012319\n",
      "Epoch  800/1000 W: 0.903, b: 0.216 Cost: 0.006798\n",
      "Epoch  900/1000 W: 0.930, b: 0.156 Cost: 0.003539\n",
      "Epoch 1000/1000 W: 0.951, b: 0.109 Cost: 0.001737\n"
     ]
    }
   ],
   "source": [
    "x_train = torch.FloatTensor([[1], [2], [3]])\n",
    "y_train = torch.FloatTensor([[1], [2], [3]])\n",
    "\n",
    "class LinearRegressionModel(nn.Module):\n",
    "    def __init__(self):\n",
    "        super().__init__()\n",
    "        self.linear = nn.Linear(1, 1)\n",
    "\n",
    "    def forward(self, x):\n",
    "        return self.linear(x)\n",
    "\n",
    "model = LinearRegressionModel()\n",
    "\n",
    "optimizer = torch.optim.Adam(model.parameters(), lr=0.01)\n",
    "num_epochs = 1000\n",
    "\n",
    "for epoch in range(num_epochs + 1):\n",
    "    prediction = model(x_train)\n",
    "    cost = torch.nn.functional.mse_loss(prediction, y_train)\n",
    "    optimizer.zero_grad()\n",
    "    cost.backward()\n",
    "    optimizer.step()\n",
    "    if epoch % 100 == 0:\n",
    "        params = list(model.parameters())\n",
    "        W = params[0].item()\n",
    "        b = params[1].item()\n",
    "        print('Epoch {:4d}/{} W: {:.3f}, b: {:.3f} Cost: {:.6f}'.format\n",
    "              (epoch, num_epochs, W, b, cost.item()))"
   ]
  },
  {
   "cell_type": "markdown",
   "metadata": {},
   "source": [
    "## SGD에 momentum을 추가해 보았다"
   ]
  },
  {
   "cell_type": "code",
   "execution_count": 17,
   "metadata": {},
   "outputs": [
    {
     "name": "stdout",
     "output_type": "stream",
     "text": [
      "Epoch    0/1000 W: -0.484, b: -0.840 Cost: 20.204832\n",
      "Epoch  100/1000 W: 1.012, b: -0.004 Cost: 0.000380\n",
      "Epoch  200/1000 W: 1.000, b: -0.000 Cost: 0.000000\n",
      "Epoch  300/1000 W: 1.000, b: -0.000 Cost: 0.000000\n",
      "Epoch  400/1000 W: 1.000, b: -0.000 Cost: 0.000000\n",
      "Epoch  500/1000 W: 1.000, b: -0.000 Cost: 0.000000\n",
      "Epoch  600/1000 W: 1.000, b: -0.000 Cost: 0.000000\n",
      "Epoch  700/1000 W: 1.000, b: -0.000 Cost: 0.000000\n",
      "Epoch  800/1000 W: 1.000, b: -0.000 Cost: 0.000000\n",
      "Epoch  900/1000 W: 1.000, b: -0.000 Cost: 0.000000\n",
      "Epoch 1000/1000 W: 1.000, b: -0.000 Cost: 0.000000\n"
     ]
    }
   ],
   "source": [
    "x_train = torch.FloatTensor([[1], [2], [3]])\n",
    "y_train = torch.FloatTensor([[1], [2], [3]])\n",
    "\n",
    "class LinearRegressionModel(nn.Module):\n",
    "    def __init__(self):\n",
    "        super().__init__()\n",
    "        self.linear = nn.Linear(1, 1)\n",
    "\n",
    "    def forward(self, x):\n",
    "        return self.linear(x)\n",
    "\n",
    "model = LinearRegressionModel()\n",
    "\n",
    "optimizer = torch.optim.SGD(model.parameters(), lr=0.01, momentum=0.9)\n",
    "num_epochs = 1000\n",
    "\n",
    "for epoch in range(num_epochs + 1):\n",
    "    prediction = model(x_train)\n",
    "    cost = torch.nn.functional.mse_loss(prediction, y_train)\n",
    "    optimizer.zero_grad()\n",
    "    cost.backward()\n",
    "    optimizer.step()\n",
    "    if epoch % 100 == 0:\n",
    "        params = list(model.parameters())\n",
    "        W = params[0].item()\n",
    "        b = params[1].item()\n",
    "        print('Epoch {:4d}/{} W: {:.3f}, b: {:.3f} Cost: {:.6f}'.format\n",
    "              (epoch, num_epochs, W, b, cost.item()))"
   ]
  }
 ],
 "metadata": {
  "kernelspec": {
   "display_name": "Python 3",
   "language": "python",
   "name": "python3"
  },
  "language_info": {
   "codemirror_mode": {
    "name": "ipython",
    "version": 3
   },
   "file_extension": ".py",
   "mimetype": "text/x-python",
   "name": "python",
   "nbconvert_exporter": "python",
   "pygments_lexer": "ipython3",
   "version": "3.7.1"
  }
 },
 "nbformat": 4,
 "nbformat_minor": 2
}
