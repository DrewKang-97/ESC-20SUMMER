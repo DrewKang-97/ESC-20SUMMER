{
 "cells": [
  {
   "cell_type": "markdown",
   "metadata": {},
   "source": [
    "# Week1 HW1_Regression_EunseoKang_5조_강은서"
   ]
  },
  {
   "cell_type": "markdown",
   "metadata": {},
   "source": [
    "### Q1) 이 경우에서는 Type 1 error가 높을까요? Type 2 Error가 높을까요? FP, FN과 관련지어 설명해주세요."
   ]
  },
  {
   "cell_type": "markdown",
   "metadata": {},
   "source": [
    "문제에서는 은행에서 설정한 threshold가 0.3으로 낮고, 따라서 acceptance rate가 매우 높다고 설명하고 있다. (즉 가입이 쉽다)\n",
    "https://sumniya.tistory.com/26\n",
    "\n",
    "FN(False Negative)는 실제 true 인 정답을 false라고 예측하는 것이므로 type 1 error,\n",
    "FP(False Positive)은 실제 False인 정답을 true라고 예측하는 것이므로 type 2 error와 비슷한 개념이다.\n",
    "이 문제에서는 threshold가 낮아 가입이 쉽기 때문에 (그만큼 가입이 어려운 사람들도 쉽게 가입시켜줄 가능성이 더 높기 때문에), FP가 더 높을 것이다. 즉 type 2 error가 더 높을 것이다."
   ]
  },
  {
   "cell_type": "markdown",
   "metadata": {},
   "source": [
    "### Q2-1) Accuracy, Precision and Recall이 무엇인지 TP,FP,FN,TN의 식으로 나타내 주세요."
   ]
  },
  {
   "cell_type": "markdown",
   "metadata": {},
   "source": [
    "Accuracy: 모델이 맞게 예측한 경우를 모두 고려하는 지표. 모델이 맞게 예측한 모든 경우의 비율\n",
    " Accuracy= (TP+TN)/(TP+TN+FP+FN)\n",
    "\n",
    "Precision:모델이 True라고 분류한 것 중에서 실제 True인 것의 비율\n",
    " Precision= TP/(TP+FP)\n",
    "\n",
    "Recall: 실제 True인 것 중에서 모델이 True라고 예측한 것의 비율\n",
    " Recall= TP/(TP+FN)\n",
    " \n",
    "*Precision이나 Recall은 모두 실제 True인 정답을 모델이 True라고 예측한 경우에 관심이 있으나, 바라보고자 하는 관점만 다르다. Precision은 모델의 입장에서, 그리고 Recall은 실제 정답(data)의 입장에서 정답을 정답이라고 맞춘 경우를 생각하는 것!\n"
   ]
  },
  {
   "cell_type": "markdown",
   "metadata": {},
   "source": [
    "### Q2-2) Precision and Recall에 관한 제가 든 예시가 아닌 실생활 예시 하나를 들어주세요."
   ]
  },
  {
   "cell_type": "markdown",
   "metadata": {},
   "source": [
    "흔한 예시일 수 있으나 **코로나 진단 키트** 예시\n",
    "True를 코로나 확진판정, False를 음성 판정이라고 한다면, \n",
    "FN(실제로는 코로나 양성반응을 보이고 있는데 음성이라 예측)이 가지는 위험성이 FP(실제로는 음성반응을 보이고 있는데 양성이라 예측)하는 것보다 훨씬 크다. 따라서 FN이 더 치명적이므로, threshold를 낮춰 FN을 방지하는 것이 더 나을 것이다. 이 경우 Recall은 더 높아질 것이다. "
   ]
  },
  {
   "cell_type": "markdown",
   "metadata": {},
   "source": [
    "### Q3) 코드 따라해보고 주석 달기!\n",
    "https://www.geeksforgeeks.org/identifying-handwritten-digits-using-logistic-regression-pytorch/"
   ]
  },
  {
   "cell_type": "code",
   "execution_count": 1,
   "metadata": {},
   "outputs": [],
   "source": [
    "import torch \n",
    "import torch.nn as nn \n",
    "import torchvision.datasets as dsets \n",
    "import torchvision.transforms as transforms \n",
    "from torch.autograd import Variable "
   ]
  },
  {
   "cell_type": "code",
   "execution_count": 2,
   "metadata": {},
   "outputs": [],
   "source": [
    "# MNIST Dataset (Images and Labels)  #데이터 불러오기\n",
    "train_dataset = dsets.MNIST(root ='./data', \n",
    "                            train = True, \n",
    "                            transform = transforms.ToTensor(), \n",
    "                            download = True) \n",
    "\n",
    "test_dataset = dsets.MNIST(root ='./data', \n",
    "                        train = False, #test set이니까 여기 False지정\n",
    "                        transform = transforms.ToTensor()) "
   ]
  },
  {
   "cell_type": "code",
   "execution_count": 3,
   "metadata": {},
   "outputs": [],
   "source": [
    "# Hyper Parameters \n",
    "input_size = 784 #image size is 28*28\n",
    "num_classes = 10 #y가 0~9까지 10개의 class로 나올 수 있으므로\n",
    "num_epochs = 5 #전체 데이터 5번 train\n",
    "batch_size = 100 \n",
    "learning_rate = 0.001"
   ]
  },
  {
   "cell_type": "code",
   "execution_count": 4,
   "metadata": {},
   "outputs": [],
   "source": [
    "# Dataset Loader (Input Pipline)  ##순서 그대로 카피해오면 batchsize지정이 안되어서 오류가 났음.\n",
    "train_loader = torch.utils.data.DataLoader(dataset = train_dataset,  \n",
    "                                           batch_size = batch_size,  \n",
    "                                           shuffle = True) \n",
    "  \n",
    "test_loader = torch.utils.data.DataLoader(dataset = test_dataset,  \n",
    "                                          batch_size = batch_size,  \n",
    "                                          shuffle = False)"
   ]
  },
  {
   "cell_type": "code",
   "execution_count": 5,
   "metadata": {},
   "outputs": [],
   "source": [
    "class LogisticRegression(nn.Module): #우리가 사용할 모델 지정\n",
    "    def __init__(self, input_size, num_classes): \n",
    "        super(LogisticRegression, self).__init__() \n",
    "        self.linear = nn.Linear(input_size, num_classes) \n",
    "\n",
    "    def forward(self, x):   #define the forward pass\n",
    "        out = self.linear(x) \n",
    "        return out "
   ]
  },
  {
   "cell_type": "code",
   "execution_count": 6,
   "metadata": {},
   "outputs": [],
   "source": [
    "model = LogisticRegression(input_size, num_classes) "
   ]
  },
  {
   "cell_type": "code",
   "execution_count": 7,
   "metadata": {},
   "outputs": [],
   "source": [
    "criterion = nn.CrossEntropyLoss() #loss함수 설정\n",
    "optimizer = torch.optim.SGD(model.parameters(), lr = learning_rate) #optimiser 설정"
   ]
  },
  {
   "cell_type": "code",
   "execution_count": 9,
   "metadata": {},
   "outputs": [
    {
     "name": "stdout",
     "output_type": "stream",
     "text": [
      "Epoch: [ 1/ 5], Step: [ 100/ 600], Loss: 2.0980\n",
      "Epoch: [ 1/ 5], Step: [ 200/ 600], Loss: 2.0203\n",
      "Epoch: [ 1/ 5], Step: [ 300/ 600], Loss: 1.9099\n",
      "Epoch: [ 1/ 5], Step: [ 400/ 600], Loss: 1.8568\n",
      "Epoch: [ 1/ 5], Step: [ 500/ 600], Loss: 1.8032\n",
      "Epoch: [ 1/ 5], Step: [ 600/ 600], Loss: 1.7502\n",
      "Epoch: [ 2/ 5], Step: [ 100/ 600], Loss: 1.7163\n",
      "Epoch: [ 2/ 5], Step: [ 200/ 600], Loss: 1.5937\n",
      "Epoch: [ 2/ 5], Step: [ 300/ 600], Loss: 1.6220\n",
      "Epoch: [ 2/ 5], Step: [ 400/ 600], Loss: 1.4558\n",
      "Epoch: [ 2/ 5], Step: [ 500/ 600], Loss: 1.4221\n",
      "Epoch: [ 2/ 5], Step: [ 600/ 600], Loss: 1.4155\n",
      "Epoch: [ 3/ 5], Step: [ 100/ 600], Loss: 1.4059\n",
      "Epoch: [ 3/ 5], Step: [ 200/ 600], Loss: 1.4308\n",
      "Epoch: [ 3/ 5], Step: [ 300/ 600], Loss: 1.2552\n",
      "Epoch: [ 3/ 5], Step: [ 400/ 600], Loss: 1.2506\n",
      "Epoch: [ 3/ 5], Step: [ 500/ 600], Loss: 1.2884\n",
      "Epoch: [ 3/ 5], Step: [ 600/ 600], Loss: 1.3311\n",
      "Epoch: [ 4/ 5], Step: [ 100/ 600], Loss: 1.2474\n",
      "Epoch: [ 4/ 5], Step: [ 200/ 600], Loss: 1.1200\n",
      "Epoch: [ 4/ 5], Step: [ 300/ 600], Loss: 1.2385\n",
      "Epoch: [ 4/ 5], Step: [ 400/ 600], Loss: 1.0491\n",
      "Epoch: [ 4/ 5], Step: [ 500/ 600], Loss: 1.1204\n",
      "Epoch: [ 4/ 5], Step: [ 600/ 600], Loss: 1.0576\n",
      "Epoch: [ 5/ 5], Step: [ 100/ 600], Loss: 1.1233\n",
      "Epoch: [ 5/ 5], Step: [ 200/ 600], Loss: 1.0244\n",
      "Epoch: [ 5/ 5], Step: [ 300/ 600], Loss: 0.9512\n",
      "Epoch: [ 5/ 5], Step: [ 400/ 600], Loss: 0.9349\n",
      "Epoch: [ 5/ 5], Step: [ 500/ 600], Loss: 0.9144\n",
      "Epoch: [ 5/ 5], Step: [ 600/ 600], Loss: 0.9496\n"
     ]
    }
   ],
   "source": [
    "# Training the Model ###loss.data[0]이면 오류 발생(왜인지는 잘 모르겠어서 다른 분들 것을 참고했습니다)\n",
    "for epoch in range(num_epochs): #epoch 5번만큼 반복\n",
    "    for i, (images, labels) in enumerate(train_loader): \n",
    "        images = Variable(images.view(-1, 28 * 28))  #numpy --> tensor 형태로 데이터 변환\n",
    "        labels = Variable(labels) \n",
    "  \n",
    "        # Forward + Backward + Optimize \n",
    "        optimizer.zero_grad()  #gradient 초기화해서 시작\n",
    "        outputs = model(images)  #forward pass\n",
    "        loss = criterion(outputs, labels) #Calculate the loss.\n",
    "        loss.backward()  #backpropagation\n",
    "        optimizer.step() #Update all weights.\n",
    "  \n",
    "        if (i + 1) % 100 == 0: \n",
    "            print('Epoch: [% d/% d], Step: [% d/% d], Loss: %.4f'\n",
    "                  % (epoch + 1, num_epochs, i + 1, \n",
    "                     len(train_dataset) // batch_size, loss.data)) "
   ]
  },
  {
   "cell_type": "code",
   "execution_count": 10,
   "metadata": {},
   "outputs": [
    {
     "name": "stdout",
     "output_type": "stream",
     "text": [
      "Accuracy of the model on the 10000 test images:  82 %\n"
     ]
    },
    {
     "name": "stderr",
     "output_type": "stream",
     "text": [
      "..\\aten\\src\\ATen\\native\\BinaryOps.cpp:81: UserWarning: Integer division of tensors using div or / is deprecated, and in a future release div will perform true division as in Python 3. Use true_divide or floor_divide (// in Python) instead.\n"
     ]
    }
   ],
   "source": [
    "# Test the Model \n",
    "correct = 0\n",
    "total = 0\n",
    "for images, labels in test_loader: \n",
    "    images = Variable(images.view(-1, 28 * 28))  #numpy --> tensor 형태로 데이터 변환\n",
    "    outputs = model(images) \n",
    "    _, predicted = torch.max(outputs.data, 1) \n",
    "    total += labels.size(0) \n",
    "    correct += (predicted == labels).sum() \n",
    "\n",
    "print('Accuracy of the model on the 10000 test images: % d %%' % ( \n",
    "            100 * correct / total)) "
   ]
  },
  {
   "cell_type": "markdown",
   "metadata": {},
   "source": [
    "### Q4-1) 2-3 In[14] 코드에서 optim.SGD를 사용하지않고 코드를 짠다면 어떤 방식으로 짜야할까요? 설명해주세요."
   ]
  },
  {
   "cell_type": "markdown",
   "metadata": {},
   "source": [
    "SGD는 각각의 training sample들을 looping한 후에 가중치들이 업데이트 된다.\n",
    "(확실하진 않지만ㅠㅠ)training sample들에 대한 for구문이 끝나기  weight를 업데이트 하는 코드를 넣어주면 될 것 같다.\n",
    "weight= weight-(learning rate)* w.grad.data"
   ]
  },
  {
   "cell_type": "markdown",
   "metadata": {},
   "source": [
    "### Q4-2) Gradient descent 코드를 구현하는 문제입니다. 2-3 In[14]의 코드에서 다른 optimizer(3개 ex)adam, rmsprop, sgd에 momentum 추가 등등)를 이용하여 결과값을 비교해주세요."
   ]
  },
  {
   "cell_type": "code",
   "execution_count": 16,
   "metadata": {},
   "outputs": [],
   "source": [
    "import torch\n",
    "import torch.nn as nn\n",
    "import torch.nn.functional as F\n",
    "import torch.optim as optim"
   ]
  },
  {
   "cell_type": "code",
   "execution_count": 19,
   "metadata": {},
   "outputs": [
    {
     "data": {
      "text/plain": [
       "<torch._C.Generator at 0x1bcb7ea0c90>"
      ]
     },
     "execution_count": 19,
     "metadata": {},
     "output_type": "execute_result"
    }
   ],
   "source": [
    "torch.manual_seed(1)"
   ]
  },
  {
   "cell_type": "markdown",
   "metadata": {},
   "source": [
    "#### sgd (momentum default=0)"
   ]
  },
  {
   "cell_type": "code",
   "execution_count": 21,
   "metadata": {},
   "outputs": [
    {
     "name": "stdout",
     "output_type": "stream",
     "text": [
      "Epoch    0/1000 W: -0.101, b: 0.508 Cost: 4.630286\n",
      "Epoch  100/1000 W: 0.713, b: 0.653 Cost: 0.061555\n",
      "Epoch  200/1000 W: 0.774, b: 0.514 Cost: 0.038037\n",
      "Epoch  300/1000 W: 0.822, b: 0.404 Cost: 0.023505\n",
      "Epoch  400/1000 W: 0.860, b: 0.317 Cost: 0.014525\n",
      "Epoch  500/1000 W: 0.890, b: 0.250 Cost: 0.008975\n",
      "Epoch  600/1000 W: 0.914, b: 0.196 Cost: 0.005546\n",
      "Epoch  700/1000 W: 0.932, b: 0.154 Cost: 0.003427\n",
      "Epoch  800/1000 W: 0.947, b: 0.121 Cost: 0.002118\n",
      "Epoch  900/1000 W: 0.958, b: 0.095 Cost: 0.001309\n",
      "Epoch 1000/1000 W: 0.967, b: 0.075 Cost: 0.000809\n"
     ]
    }
   ],
   "source": [
    "# 데이터\n",
    "x_train = torch.FloatTensor([[1], [2], [3]])\n",
    "y_train = torch.FloatTensor([[1], [2], [3]])\n",
    "\n",
    "class LinearRegressionModel(nn.Module):\n",
    "    def __init__(self):\n",
    "        super().__init__()\n",
    "        self.linear = nn.Linear(1,1)\n",
    "    \n",
    "    def forward(self,x):\n",
    "        return self.linear(x)\n",
    "    \n",
    "#모델 초기화\n",
    "model = LinearRegressionModel()\n",
    "\n",
    "#optimizer 설정\n",
    "optimizer = optim.SGD(model.parameters(), lr=0.01)\n",
    "\n",
    "nb_epochs=1000\n",
    "for epoch in range(nb_epochs + 1):\n",
    "    \n",
    "   \n",
    "    prediction = model(x_train) #H(x)계산\n",
    "    cost= F.mse_loss(prediction, y_train)#cost 계산\n",
    "    optimizer.zero_grad() #cost로 H(x) 개선\n",
    "    cost.backward()\n",
    "    optimizer.step()\n",
    "    \n",
    "    #100번마다 로그 출력\n",
    "    if epoch % 100 == 0:\n",
    "        params= list(model.parameters())\n",
    "        W = params[0].item()\n",
    "        b= params[1].item()\n",
    "        print('Epoch {:4d}/{} W: {:.3f}, b: {:.3f} Cost: {:.6f}'.format(\n",
    "            epoch, nb_epochs, W, b, cost.item()\n",
    "        ))\n"
   ]
  },
  {
   "cell_type": "markdown",
   "metadata": {},
   "source": [
    "#### adam"
   ]
  },
  {
   "cell_type": "code",
   "execution_count": 22,
   "metadata": {},
   "outputs": [
    {
     "name": "stdout",
     "output_type": "stream",
     "text": [
      "Epoch    0/1000 W: -0.931, b: 0.610 Cost: 13.291902\n",
      "Epoch  100/1000 W: -0.119, b: 1.401 Cost: 1.568305\n",
      "Epoch  200/1000 W: 0.204, b: 1.617 Cost: 0.424710\n",
      "Epoch  300/1000 W: 0.299, b: 1.542 Cost: 0.347739\n",
      "Epoch  400/1000 W: 0.363, b: 1.409 Cost: 0.289452\n",
      "Epoch  500/1000 W: 0.428, b: 1.267 Cost: 0.233843\n",
      "Epoch  600/1000 W: 0.493, b: 1.122 Cost: 0.183539\n",
      "Epoch  700/1000 W: 0.557, b: 0.980 Cost: 0.140028\n",
      "Epoch  800/1000 W: 0.619, b: 0.844 Cost: 0.103852\n",
      "Epoch  900/1000 W: 0.676, b: 0.716 Cost: 0.074856\n",
      "Epoch 1000/1000 W: 0.729, b: 0.599 Cost: 0.052415\n"
     ]
    }
   ],
   "source": [
    "# 데이터\n",
    "x_train = torch.FloatTensor([[1], [2], [3]])\n",
    "y_train = torch.FloatTensor([[1], [2], [3]])\n",
    "\n",
    "class LinearRegressionModel(nn.Module):\n",
    "    def __init__(self):\n",
    "        super().__init__()\n",
    "        self.linear = nn.Linear(1,1)\n",
    "    \n",
    "    def forward(self,x):\n",
    "        return self.linear(x)\n",
    "    \n",
    "#모델 초기화\n",
    "model = LinearRegressionModel()\n",
    "\n",
    "#optimizer 설정\n",
    "optimizer = optim.Adam(model.parameters(), lr=0.01)\n",
    "\n",
    "nb_epochs=1000\n",
    "for epoch in range(nb_epochs + 1):\n",
    "    \n",
    "    #H(x)계산\n",
    "    prediction = model(x_train)\n",
    "    \n",
    "    #cost 계산\n",
    "    cost= F.mse_loss(prediction, y_train)\n",
    "    \n",
    "    #cost로 H(x) 개선\n",
    "    optimizer.zero_grad()\n",
    "    cost.backward()\n",
    "    optimizer.step()\n",
    "    \n",
    "    #100번마다 로그 출력\n",
    "    if epoch % 100 == 0:\n",
    "        params= list(model.parameters())\n",
    "        W = params[0].item()\n",
    "        b= params[1].item()\n",
    "        print('Epoch {:4d}/{} W: {:.3f}, b: {:.3f} Cost: {:.6f}'.format(\n",
    "            epoch, nb_epochs, W, b, cost.item()\n",
    "        ))"
   ]
  },
  {
   "cell_type": "code",
   "execution_count": 23,
   "metadata": {},
   "outputs": [
    {
     "name": "stdout",
     "output_type": "stream",
     "text": [
      "Epoch    0/1000 W: -0.114, b: 0.547 Cost: 4.589475\n",
      "Epoch  100/1000 W: 0.700, b: 0.683 Cost: 0.067193\n",
      "Epoch  200/1000 W: 0.764, b: 0.537 Cost: 0.041520\n",
      "Epoch  300/1000 W: 0.814, b: 0.422 Cost: 0.025658\n",
      "Epoch  400/1000 W: 0.854, b: 0.332 Cost: 0.015857\n",
      "Epoch  500/1000 W: 0.885, b: 0.261 Cost: 0.009801\n",
      "Epoch  600/1000 W: 0.910, b: 0.205 Cost: 0.006058\n",
      "Epoch  700/1000 W: 0.929, b: 0.161 Cost: 0.003745\n",
      "Epoch  800/1000 W: 0.944, b: 0.127 Cost: 0.002316\n",
      "Epoch  900/1000 W: 0.956, b: 0.100 Cost: 0.001432\n",
      "Epoch 1000/1000 W: 0.966, b: 0.078 Cost: 0.000886\n"
     ]
    }
   ],
   "source": [
    "# 데이터\n",
    "x_train = torch.FloatTensor([[1], [2], [3]])\n",
    "y_train = torch.FloatTensor([[1], [2], [3]])\n",
    "\n",
    "class LinearRegressionModel(nn.Module):\n",
    "    def __init__(self):\n",
    "        super().__init__()\n",
    "        self.linear = nn.Linear(1,1)\n",
    "    \n",
    "    def forward(self,x):\n",
    "        return self.linear(x)\n",
    "    \n",
    "#모델 초기화\n",
    "model = LinearRegressionModel()\n",
    "\n",
    "#optimizer 설정\n",
    "optimizer = optim.ASGD(model.parameters(), lr=0.01)\n",
    "\n",
    "nb_epochs=1000\n",
    "for epoch in range(nb_epochs + 1):\n",
    "    \n",
    "    #H(x)계산\n",
    "    prediction = model(x_train)\n",
    "    \n",
    "    #cost 계산\n",
    "    cost= F.mse_loss(prediction, y_train)\n",
    "    \n",
    "    #cost로 H(x) 개선\n",
    "    optimizer.zero_grad()\n",
    "    cost.backward()\n",
    "    optimizer.step()\n",
    "    \n",
    "    #100번마다 로그 출력\n",
    "    if epoch % 100 == 0:\n",
    "        params= list(model.parameters())\n",
    "        W = params[0].item()\n",
    "        b= params[1].item()\n",
    "        print('Epoch {:4d}/{} W: {:.3f}, b: {:.3f} Cost: {:.6f}'.format(\n",
    "            epoch, nb_epochs, W, b, cost.item()\n",
    "        ))"
   ]
  },
  {
   "cell_type": "markdown",
   "metadata": {},
   "source": [
    "#### sgd with momentum =0.9"
   ]
  },
  {
   "cell_type": "code",
   "execution_count": 24,
   "metadata": {},
   "outputs": [
    {
     "name": "stdout",
     "output_type": "stream",
     "text": [
      "Epoch    0/1000 W: 0.224, b: -0.086 Cost: 3.896044\n",
      "Epoch  100/1000 W: 0.999, b: 0.012 Cost: 0.000089\n",
      "Epoch  200/1000 W: 1.000, b: 0.000 Cost: 0.000000\n",
      "Epoch  300/1000 W: 1.000, b: 0.000 Cost: 0.000000\n",
      "Epoch  400/1000 W: 1.000, b: 0.000 Cost: 0.000000\n",
      "Epoch  500/1000 W: 1.000, b: 0.000 Cost: 0.000000\n",
      "Epoch  600/1000 W: 1.000, b: 0.000 Cost: 0.000000\n",
      "Epoch  700/1000 W: 1.000, b: 0.000 Cost: 0.000000\n",
      "Epoch  800/1000 W: 1.000, b: 0.000 Cost: 0.000000\n",
      "Epoch  900/1000 W: 1.000, b: 0.000 Cost: 0.000000\n",
      "Epoch 1000/1000 W: 1.000, b: 0.000 Cost: 0.000000\n"
     ]
    }
   ],
   "source": [
    "# 데이터\n",
    "x_train = torch.FloatTensor([[1], [2], [3]])\n",
    "y_train = torch.FloatTensor([[1], [2], [3]])\n",
    "\n",
    "class LinearRegressionModel(nn.Module):\n",
    "    def __init__(self):\n",
    "        super().__init__()\n",
    "        self.linear = nn.Linear(1,1)\n",
    "    \n",
    "    def forward(self,x):\n",
    "        return self.linear(x)\n",
    "    \n",
    "#모델 초기화\n",
    "model = LinearRegressionModel()\n",
    "\n",
    "#optimizer 설정\n",
    "optimizer = optim.SGD(model.parameters(), lr=0.01, momentum=0.9)\n",
    "\n",
    "nb_epochs=1000\n",
    "for epoch in range(nb_epochs + 1):\n",
    "    \n",
    "   \n",
    "    prediction = model(x_train) #H(x)계산\n",
    "    cost= F.mse_loss(prediction, y_train)#cost 계산\n",
    "    optimizer.zero_grad() #cost로 H(x) 개선\n",
    "    cost.backward()\n",
    "    optimizer.step()\n",
    "    \n",
    "    #100번마다 로그 출력\n",
    "    if epoch % 100 == 0:\n",
    "        params= list(model.parameters())\n",
    "        W = params[0].item()\n",
    "        b= params[1].item()\n",
    "        print('Epoch {:4d}/{} W: {:.3f}, b: {:.3f} Cost: {:.6f}'.format(\n",
    "            epoch, nb_epochs, W, b, cost.item()\n",
    "        ))\n"
   ]
  },
  {
   "cell_type": "code",
   "execution_count": null,
   "metadata": {},
   "outputs": [],
   "source": []
  }
 ],
 "metadata": {
  "kernelspec": {
   "display_name": "Python 3",
   "language": "python",
   "name": "python3"
  },
  "language_info": {
   "codemirror_mode": {
    "name": "ipython",
    "version": 3
   },
   "file_extension": ".py",
   "mimetype": "text/x-python",
   "name": "python",
   "nbconvert_exporter": "python",
   "pygments_lexer": "ipython3",
   "version": "3.7.6"
  }
 },
 "nbformat": 4,
 "nbformat_minor": 4
}
