{
 "cells": [
  {
   "cell_type": "markdown",
   "metadata": {},
   "source": [
    "## HW1\n",
    "이미지 파일에\n",
    "\n",
    "1) zero padding을 크기 1만큼 적용한 뒤 (즉 위 아래 양 옆으로 0을 한겹만)\n",
    "\n",
    "2) stride를 (1,1)로 filter A를 적용하고\n",
    "\n",
    "3) stride (2,2)로 2 * 2 maxpooling을 적용했을 때의 이미지 파일은 어떻게 생겼는지 예측하기\n"
   ]
  },
  {
   "cell_type": "code",
   "execution_count": 1,
   "metadata": {},
   "outputs": [],
   "source": [
    "import numpy as np"
   ]
  },
  {
   "cell_type": "code",
   "execution_count": 2,
   "metadata": {},
   "outputs": [
    {
     "data": {
      "text/plain": [
       "array([[2, 0, 2, 1, 3, 2],\n",
       "       [0, 2, 0, 2, 2, 2],\n",
       "       [1, 0, 1, 3, 1, 1],\n",
       "       [0, 0, 1, 1, 1, 0],\n",
       "       [0, 1, 3, 4, 1, 0],\n",
       "       [0, 1, 0, 0, 5, 2]])"
      ]
     },
     "execution_count": 2,
     "metadata": {},
     "output_type": "execute_result"
    }
   ],
   "source": [
    "image= np.array([[2,0,2,1,3,2],[0,2,0,2,2,2],[1,0,1,3,1,1],[0,0,1,1,1,0],[0,1,3,4,1,0],[0,1,0,0,5,2]])\n",
    "image"
   ]
  },
  {
   "cell_type": "markdown",
   "metadata": {},
   "source": [
    "1) zero padding을 크기 1만큼 적용하기.\n",
    "\n",
    "https://m.blog.naver.com/wideeyed/221665256911 참고, np.pad함수 이용"
   ]
  },
  {
   "cell_type": "code",
   "execution_count": 3,
   "metadata": {},
   "outputs": [],
   "source": [
    "padding= np.pad(image, ((1,1),(1,1)), 'constant', constant_values=0)"
   ]
  },
  {
   "cell_type": "markdown",
   "metadata": {},
   "source": [
    "2) stride를 (1,1)로 filter A를 적용하고"
   ]
  },
  {
   "cell_type": "code",
   "execution_count": 4,
   "metadata": {},
   "outputs": [
    {
     "data": {
      "text/plain": [
       "array([[1, 0, 0],\n",
       "       [0, 1, 0],\n",
       "       [0, 0, 1]])"
      ]
     },
     "execution_count": 4,
     "metadata": {},
     "output_type": "execute_result"
    }
   ],
   "source": [
    "filter_A = np.identity(3, dtype=int)\n",
    "filter_A"
   ]
  },
  {
   "cell_type": "code",
   "execution_count": 5,
   "metadata": {},
   "outputs": [],
   "source": [
    "row_num= padding.shape[0]- filter_A.shape[0]+1\n",
    "col_num= padding.shape[1]- filter_A.shape[1]+1\n",
    "\n",
    "#output image= (input size - filter size+ 2* padding)/stride +1\n",
    "#여기서는 (6-3+2*1)/1+1=6 즉 6*6사이즈의 output"
   ]
  },
  {
   "cell_type": "code",
   "execution_count": 6,
   "metadata": {},
   "outputs": [
    {
     "name": "stdout",
     "output_type": "stream",
     "text": [
      "[[ 4  0  4  3  5  2]\n",
      " [ 0  5  3  5  4  5]\n",
      " [ 1  1  4  4  3  3]\n",
      " [ 1  4  5  3  4  1]\n",
      " [ 1  1  3 10  4  1]\n",
      " [ 0  1  1  3  9  3]]\n"
     ]
    }
   ],
   "source": [
    "result2 = []\n",
    "\n",
    "for i in range(row_num) :\n",
    "    for j in range(col_num):\n",
    "        result=np.sum(padding[i:i+filter_A.shape[0], j:j+ filter_A.shape[1]] * filter_A)\n",
    "        result2=np.append(result2, result)\n",
    "        \n",
    "result3=np.array(result2,dtype=int).reshape(row_num,col_num)\n",
    "print(result3)"
   ]
  },
  {
   "cell_type": "markdown",
   "metadata": {},
   "source": [
    "3) stride (2,2)로 2 * 2 maxpooling을 적용했을 때의 이미지 파일은 어떻게 생겼는지 예측하기"
   ]
  },
  {
   "cell_type": "code",
   "execution_count": 7,
   "metadata": {},
   "outputs": [],
   "source": [
    "stride=2\n",
    "filter_size=2"
   ]
  },
  {
   "cell_type": "code",
   "execution_count": 8,
   "metadata": {},
   "outputs": [
    {
     "name": "stdout",
     "output_type": "stream",
     "text": [
      "[[ 4  0  4  3  5  2]\n",
      " [ 0  5  3  5  4  5]\n",
      " [ 1  1  4  4  3  3]\n",
      " [ 1  4  5  3  4  1]\n",
      " [ 1  1  3 10  4  1]\n",
      " [ 0  1  1  3  9  3]]\n"
     ]
    }
   ],
   "source": [
    "print(result3)"
   ]
  },
  {
   "cell_type": "code",
   "execution_count": 9,
   "metadata": {},
   "outputs": [
    {
     "name": "stdout",
     "output_type": "stream",
     "text": [
      "[[ 5  5  5]\n",
      " [ 4  5  4]\n",
      " [ 1 10  9]]\n"
     ]
    }
   ],
   "source": [
    "result5=[]\n",
    "\n",
    "for i in range(0,result3.shape[0]-1, stride):\n",
    "    for j in range(0,result3.shape[1]-1, stride):\n",
    "        result4= np.max(result3[i:i+stride, j:j+stride])\n",
    "        result5=np.append(result5, result4)\n",
    "        \n",
    "result6=np.array(result5,dtype=int).reshape(3,3)       \n",
    "print(result6)\n",
    "\n",
    "#output image= (input size - filter size+ 2* padding)/stride +1\n",
    "#여기서는 (6-2+ 2*0)/2+1=3 즉 3*3사이즈의 output"
   ]
  },
  {
   "cell_type": "markdown",
   "metadata": {},
   "source": [
    "## HW2\n",
    "\n",
    "1) layer1의 kernel size를 4로 늘리고, layer 3의 stride를 2로 늘려라\n",
    "\n",
    "2) layer3의 output size를 구하라\n",
    "\n",
    "3) cost와 accuracy가 기존 cnn 모델에 비해 어떻게 변할 것인가?\n",
    "\n",
    "4) 코딩하여 cost와 accuracy 확인해보기"
   ]
  },
  {
   "cell_type": "code",
   "execution_count": 10,
   "metadata": {},
   "outputs": [],
   "source": [
    "#1) 라이브러리 가져오기\n",
    "import torch\n",
    "import torchvision.datasets as dsets\n",
    "import torchvision.transforms as transforms\n",
    "import torch.nn.init"
   ]
  },
  {
   "cell_type": "code",
   "execution_count": 11,
   "metadata": {},
   "outputs": [],
   "source": [
    "#2) GPU 사용설정+ random value 위한 seed 설정\n",
    "device = 'cuda' if torch.cuda.is_available() else 'cpu'\n",
    "\n",
    "torch.manual_seed(777)\n",
    "if device == 'cuda':\n",
    "    torch.cuda.manual_seed_all(777)"
   ]
  },
  {
   "cell_type": "code",
   "execution_count": 12,
   "metadata": {},
   "outputs": [],
   "source": [
    "#3) 학습에 사용되는 parameters설정\n",
    "learning_rate=0.001\n",
    "training_epochs=14\n",
    "batch_size=100"
   ]
  },
  {
   "cell_type": "code",
   "execution_count": 13,
   "metadata": {},
   "outputs": [],
   "source": [
    "#4) 데이터셋 가져오기\n",
    "mnist_train = dsets.MNIST(root='MNIST_data/',\n",
    "                          train=True,\n",
    "                          transform=transforms.ToTensor(),\n",
    "                          download=True)\n",
    "\n",
    "mnist_test = dsets.MNIST(root='MNIST_data/',\n",
    "                         train=False,\n",
    "                         transform=transforms.ToTensor(),\n",
    "                         download=True)"
   ]
  },
  {
   "cell_type": "code",
   "execution_count": 14,
   "metadata": {},
   "outputs": [],
   "source": [
    "#4-1) 학습에 쓰기 편하게 loader 만들기\n",
    "data_loader = torch.utils.data.DataLoader(dataset=mnist_train,\n",
    "                                         batch_size= batch_size,\n",
    "                                         shuffle=True,\n",
    "                                         drop_last=True)\n",
    "#shuffle=True: 무작위 순서로 batch를 불러올지.\n",
    "#drop_last: batch_size로 자를 때 맨 마지막에 남는 데이터를 사용할 것인가 버릴 것인가, True면 버리는 것!"
   ]
  },
  {
   "cell_type": "markdown",
   "metadata": {},
   "source": [
    "1) layer1의 kernel size를 4로 늘리고, layer 3의 stride를 2로 늘려라\n",
    "\n",
    "2) layer3의 output size를 구하라\n",
    "\n",
    "3) cost와 accuracy가 기존 cnn 모델에 비해 어떻게 변할 것인가?\n",
    "\n",
    "4) 코딩하여 cost와 accuracy 확인해보기"
   ]
  },
  {
   "cell_type": "code",
   "execution_count": 15,
   "metadata": {},
   "outputs": [],
   "source": [
    "#CNN Model\n",
    "class CNN(torch.nn.Module):\n",
    "    \n",
    "    def __init__(self):\n",
    "        super(CNN, self).__init__()\n",
    "        self.keep_prob = 0.5\n",
    "        \n",
    "        self.layer1 = torch.nn.Sequential(\n",
    "            torch.nn.Conv2d(1, 32, kernel_size = 4, stride = 1, padding = 1), \n",
    "            # kernel_size = 4, filter의 사이즈 정하기 \n",
    "            #1) layer1의 kernel size를 4로 늘리고, \n",
    "            #image in ?\n",
    "            #Conv; ? x  27 x 27 (;= (28-4+2*1)/1+1) x 32 \n",
    "            torch.nn.ReLU(),\n",
    "            torch.nn.MaxPool2d(kernel_size = 2, stride = 2))\n",
    "            #pool;  ?  x 13 x 13 (;= (27-2+2*0)/2+1) x 32\n",
    "            \n",
    "        \n",
    "        \n",
    "        self.layer2 = torch.nn.Sequential(\n",
    "            torch.nn.Conv2d(32, 64, kernel_size = 3, stride = 1, padding = 1),\n",
    "            #Conv; ? x 13 x 13 (;=(13-3+2*1)/1+1)x 64 \n",
    "            torch.nn.ReLU(),\n",
    "            torch.nn.MaxPool2d(kernel_size = 2, stride = 2))\n",
    "            #pool; ? x 6 x 6 (;=(13-2+2*0)/2+1)x 64 \n",
    "\n",
    "\n",
    "        self.layer3 = torch.nn.Sequential(\n",
    "            torch.nn.Conv2d(64, 128, kernel_size = 3, stride = 2, padding = 1),\n",
    "            #1) layer 3의 stride를 2로 늘려라\n",
    "            #conv; ?  x 3x 3 (;=(6-3+2*1)/2+1) x 128\n",
    "            torch.nn.ReLU(),\n",
    "            torch.nn.MaxPool2d(kernel_size = 2, stride = 2, padding = 1))\n",
    "            #pool; ? x 2 x 2 (;=(3-2+2*0)/2+1)x 128 \n",
    "        \n",
    "        self.fc1 = torch.nn.Linear(128 * 2 * 2, 625, bias = True)\n",
    "        torch.nn.init.xavier_uniform_(self.fc1.weight)\n",
    "        self.layer4 = torch.nn.Sequential(\n",
    "            self.fc1,\n",
    "            torch.nn.ReLU(),\n",
    "            torch.nn.Dropout(p = 1 - self.keep_prob))\n",
    "        \n",
    "        self.fc2 = torch.nn.Linear(625, 10, bias=True)\n",
    "        torch.nn.init.xavier_uniform_(self.fc2.weight)\n",
    "        \n",
    "    def forward(self,x):\n",
    "        out = self.layer1(x)\n",
    "        out = self.layer2(out)\n",
    "        out = self.layer3(out)\n",
    "        out = out.view(out.size(0),-1)\n",
    "        out = self.layer4(out)\n",
    "        out = self.fc2(out)\n",
    "        return out\n",
    "        "
   ]
  },
  {
   "cell_type": "code",
   "execution_count": 16,
   "metadata": {},
   "outputs": [],
   "source": [
    "#intantiate CNN modle\n",
    "model= CNN().to(device)"
   ]
  },
  {
   "cell_type": "code",
   "execution_count": 17,
   "metadata": {},
   "outputs": [],
   "source": [
    "#6) loss fuctuion (criterion)을 선택하고 최적화 도구 선택(optimizer)\n",
    "criterion= torch.nn.CrossEntropyLoss().to(device) #Softmax is initially computed\n",
    "optimizer= torch.optim.Adam(model.parameters(),lr=learning_rate)"
   ]
  },
  {
   "cell_type": "code",
   "execution_count": 18,
   "metadata": {
    "scrolled": true
   },
   "outputs": [
    {
     "name": "stdout",
     "output_type": "stream",
     "text": [
      "Learning started. It takes sometime\n",
      "[Epoch:    1] cost = 0.260818541\n",
      "[Epoch:    2] cost = 0.0653349981\n",
      "[Epoch:    3] cost = 0.0462695546\n",
      "[Epoch:    4] cost = 0.0356797874\n",
      "[Epoch:    5] cost = 0.0290069245\n",
      "[Epoch:    6] cost = 0.0246454626\n",
      "[Epoch:    7] cost = 0.0211415365\n",
      "[Epoch:    8] cost = 0.0169709064\n",
      "[Epoch:    9] cost = 0.0155284861\n",
      "[Epoch:   10] cost = 0.0168496426\n",
      "[Epoch:   11] cost = 0.0121403234\n",
      "[Epoch:   12] cost = 0.0110005122\n",
      "[Epoch:   13] cost = 0.0121472739\n",
      "[Epoch:   14] cost = 0.00828384608\n",
      "Learning Finished\n"
     ]
    }
   ],
   "source": [
    "#7) 모델 학습 및 loss check (criterion의 output)\n",
    "#linear와 달리 data를 reshape할 필요가 없기 때문에 X.view(-1,28*28).to(device)에서 X.to(device로 변경)\n",
    "\n",
    "total_batch = len(data_loader)\n",
    "\n",
    "print('Learning started. It takes sometime')\n",
    "\n",
    "for epoch in range(training_epochs):\n",
    "    avg_cost = 0\n",
    "    for X, Y in data_loader:\n",
    "        X = X.to(device) # 요기!\n",
    "        Y = Y.to(device)\n",
    "        \n",
    "        optimizer.zero_grad()\n",
    "        hypothesis = model(X)\n",
    "        cost = criterion(hypothesis, Y)\n",
    "        cost.backward()\n",
    "        optimizer.step()\n",
    "        \n",
    "        avg_cost += cost / total_batch\n",
    "        \n",
    "    print('[Epoch: {:>4}] cost = {:>.9}'.format(epoch + 1, avg_cost))\n",
    "\n",
    "print('Learning Finished')"
   ]
  },
  {
   "cell_type": "code",
   "execution_count": 19,
   "metadata": {},
   "outputs": [
    {
     "name": "stderr",
     "output_type": "stream",
     "text": [
      "C:\\ProgramData\\Anaconda3\\lib\\site-packages\\torchvision\\datasets\\mnist.py:60: UserWarning: test_data has been renamed data\n",
      "  warnings.warn(\"test_data has been renamed data\")\n",
      "C:\\ProgramData\\Anaconda3\\lib\\site-packages\\torchvision\\datasets\\mnist.py:50: UserWarning: test_labels has been renamed targets\n",
      "  warnings.warn(\"test_labels has been renamed targets\")\n"
     ]
    },
    {
     "name": "stdout",
     "output_type": "stream",
     "text": [
      "Accuracy:  0.9837999939918518\n"
     ]
    }
   ],
   "source": [
    "#8) 학습된 모델의 성능 확인\n",
    "## test data의 x변수를 읽을 때 구조가 (data 수, channel 수 , 가로, 세로) 의 순서로 변화\n",
    "with torch.no_grad():\n",
    "    X_test = mnist_test.test_data.view(len(mnist_test),1,28,28).float().to(device)\n",
    "    Y_test = mnist_test.test_labels.to(device)\n",
    "    \n",
    "    prediction = model(X_test) \n",
    "    correct_prediction = torch.argmax(prediction,1)== Y_test\n",
    "    accuracy = correct_prediction.float().mean()\n",
    "    print('Accuracy: ', accuracy.item())"
   ]
  },
  {
   "cell_type": "markdown",
   "metadata": {},
   "source": [
    "#### 2) layer3의 output size를 구하라\n",
    "\n",
    "2 * 2 * 128\n",
    "\n",
    "\n"
   ]
  },
  {
   "cell_type": "markdown",
   "metadata": {},
   "source": [
    "#### 3) cost와 accuracy가 기존 cnn 모델에 비해 어떻게 변할 것인가?\n",
    "\n",
    "#### 4)코딩하여 cost와 accuracy 확인해보기"
   ]
  },
  {
   "cell_type": "code",
   "execution_count": 20,
   "metadata": {},
   "outputs": [],
   "source": [
    "#기존의 CNN 모델과의 비교를 위해 기존 CNN 모델 돌리기\n",
    "#기존 CNN Model\n",
    "\n",
    "# CNN model \n",
    "\n",
    "class CNN(torch.nn.Module):\n",
    "    \n",
    "    def __init__(self):\n",
    "        super(CNN, self).__init__()\n",
    "        self.keep_prob = 0.5\n",
    "\n",
    "        self.layer1 = torch.nn.Sequential(\n",
    "            torch.nn.Conv2d(1, 32, kernel_size = 3, stride = 1, padding=1),\n",
    "            torch.nn.ReLU(),\n",
    "            torch.nn.MaxPool2d(kernel_size = 2, stride = 2))\n",
    "        \n",
    "    \n",
    "        self.layer2 = torch.nn.Sequential(\n",
    "            torch.nn.Conv2d(32, 64, kernel_size = 3, stride = 1, padding=1),\n",
    "            torch.nn.ReLU(),\n",
    "            torch.nn.MaxPool2d(kernel_size = 2, stride = 2))\n",
    "\n",
    "        self.layer3 = torch.nn.Sequential(\n",
    "            torch.nn.Conv2d(64, 128, kernel_size = 3, stride = 1, padding=1),\n",
    "            torch.nn.ReLU(),\n",
    "            torch.nn.MaxPool2d(kernel_size = 2, stride = 2, padding = 1))\n",
    "            \n",
    "        self.fc1 = torch.nn.Linear(4*4*128, 625 ,bias = True)\n",
    "        torch.nn.init.xavier_uniform_(self.fc1.weight)\n",
    "        \n",
    "        self.layer4 = torch.nn.Sequential(\n",
    "            self.fc1,\n",
    "            torch.nn.ReLU(),\n",
    "            torch.nn.Dropout(p = 1 - self.keep_prob))\n",
    "            \n",
    "        self.fc2 = torch.nn.Linear(625, 10 ,bias = True)\n",
    "        torch.nn.init.xavier_uniform_(self.fc2.weight)\n",
    "    \n",
    "    def forward(self,x):\n",
    "        out = self.layer1(x)\n",
    "        out = self.layer2(out)\n",
    "        out = self.layer3(out)\n",
    "        out = out.view(out.size(0), -1)\n",
    "        out = self.layer4(out)\n",
    "        out = self.fc2(out)\n",
    "        return out"
   ]
  },
  {
   "cell_type": "code",
   "execution_count": 22,
   "metadata": {},
   "outputs": [],
   "source": [
    "model = CNN().to(device)"
   ]
  },
  {
   "cell_type": "code",
   "execution_count": 23,
   "metadata": {},
   "outputs": [],
   "source": [
    "criterion = torch.nn.CrossEntropyLoss().to(device)\n",
    "optimizer = torch.optim.Adam(model.parameters(), lr= learning_rate)"
   ]
  },
  {
   "cell_type": "code",
   "execution_count": 24,
   "metadata": {},
   "outputs": [
    {
     "name": "stdout",
     "output_type": "stream",
     "text": [
      "Learning started. It takes sometime\n",
      "[Epoch:    1] cost = 0.187037423\n",
      "[Epoch:    2] cost = 0.051764328\n",
      "[Epoch:    3] cost = 0.0369065069\n",
      "[Epoch:    4] cost = 0.0284132678\n",
      "[Epoch:    5] cost = 0.023815278\n",
      "[Epoch:    6] cost = 0.020001471\n",
      "[Epoch:    7] cost = 0.0167973842\n",
      "[Epoch:    8] cost = 0.0149747962\n",
      "[Epoch:    9] cost = 0.0123901125\n",
      "[Epoch:   10] cost = 0.0110296924\n",
      "[Epoch:   11] cost = 0.0103201037\n",
      "[Epoch:   12] cost = 0.0100688282\n",
      "[Epoch:   13] cost = 0.00859705824\n",
      "[Epoch:   14] cost = 0.00773246307\n",
      "Learning Finished\n"
     ]
    }
   ],
   "source": [
    "#모델 학습\n",
    "total_batch = len(data_loader)\n",
    "\n",
    "print('Learning started. It takes sometime')\n",
    "\n",
    "for epoch in range(training_epochs):\n",
    "    avg_cost = 0\n",
    "    for X, Y in data_loader:\n",
    "        X = X.to(device) # 요기!\n",
    "        Y = Y.to(device)\n",
    "        \n",
    "        optimizer.zero_grad()\n",
    "        hypothesis = model(X)\n",
    "        cost = criterion(hypothesis, Y)\n",
    "        cost.backward()\n",
    "        optimizer.step()\n",
    "        \n",
    "        avg_cost += cost / total_batch\n",
    "        \n",
    "    print('[Epoch: {:>4}] cost = {:>.9}'.format(epoch + 1, avg_cost))\n",
    "\n",
    "print('Learning Finished')"
   ]
  },
  {
   "cell_type": "code",
   "execution_count": 25,
   "metadata": {},
   "outputs": [
    {
     "name": "stdout",
     "output_type": "stream",
     "text": [
      "Accuracy:  0.9542999863624573\n"
     ]
    }
   ],
   "source": [
    "#모델 성능 확인\n",
    "with torch.no_grad():\n",
    "    X_test = mnist_test.test_data.view(len(mnist_test),1,28,28).float().to(device)\n",
    "    Y_test = mnist_test.test_labels.to(device)\n",
    "    \n",
    "    prediction = model(X_test) \n",
    "    correct_prediction = torch.argmax(prediction,1)== Y_test\n",
    "    accuracy = correct_prediction.float().mean()\n",
    "    print('Accuracy: ', accuracy.item())"
   ]
  },
  {
   "cell_type": "markdown",
   "metadata": {},
   "source": [
    "cost는 기존 모델에 비해 높게 나오고, accuracy 또한 기존 모델에 비해 높게 나왔다. 그런데 거의 차이가 없는 듯 하다..."
   ]
  },
  {
   "cell_type": "code",
   "execution_count": null,
   "metadata": {},
   "outputs": [],
   "source": []
  },
  {
   "cell_type": "code",
   "execution_count": null,
   "metadata": {},
   "outputs": [],
   "source": []
  },
  {
   "cell_type": "code",
   "execution_count": null,
   "metadata": {},
   "outputs": [],
   "source": []
  },
  {
   "cell_type": "code",
   "execution_count": 26,
   "metadata": {},
   "outputs": [],
   "source": [
    "class CNN(torch.nn.Module):\n",
    "    \n",
    "    def __init__(self):\n",
    "        \n",
    "        super(CNN,self).__init__()\n",
    "        self.keep_prob = 0.5\n",
    "        \n",
    "        self.layer1 = torch.nn.Sequential(torch.nn.Conv2d(1,32,kernel_size=3, stride=1, padding=1),\n",
    "                                         torch.nn.ReLU(), torch.nn.MaxPool2d(kernel_size=2, stride=2))\n",
    "        \n",
    "        self.layer2 = torch.nn.Sequential(torch.nn.Conv2d(32,64,kernel_size=3, stride=1, padding=1),\n",
    "                                         torch.nn.ReLU(), torch.nn.MaxPool2d(kernel_size=2, stride=2))\n",
    "        \n",
    "        self.layer3 = torch.nn.Sequential(torch.nn.Conv2d(64,128, kernel_size=3, stride=1, padding=1),\n",
    "                                         torch.nn.ReLU(), torch.nn.MaxPool2d(kernel_size=2,stride=2, padding=1))\n",
    "        \n",
    "        self.fc1 = torch.nn.Linear(4*4*128,625, bias=True)\n",
    "        torch.nn.init.xavier_uniform_(self.fc1.weight)\n",
    "        self.layer4 = torch.nn.Sequential(self.fc1, torch.nn.ReLU(), torch.nn.Dropout(p=1-self.keep_prob))\n",
    "        \n",
    "        self.fc2 = torch.nn.Linear(625, 10, bias =True)\n",
    "        torch.nn.init.xavier_uniform_(self.fc2.weight)\n",
    "        \n",
    "   \n",
    "    def forward(self, x):\n",
    "        out = self.layer1(x)\n",
    "        out = self.layer2(out)\n",
    "        out = self.layer3(out)\n",
    "        out = out.view(out.size(0),-1)\n",
    "        out = self.layer4(out)\n",
    "        out = self.fc2(out)\n",
    "        return out"
   ]
  },
  {
   "cell_type": "code",
   "execution_count": 27,
   "metadata": {},
   "outputs": [],
   "source": [
    "model = CNN().to(device)"
   ]
  },
  {
   "cell_type": "code",
   "execution_count": 28,
   "metadata": {},
   "outputs": [],
   "source": [
    "criterion = torch.nn.CrossEntropyLoss().to(device)\n",
    "optimizer = torch.optim.Adam(model.parameters(), lr= learning_rate)"
   ]
  },
  {
   "cell_type": "code",
   "execution_count": 29,
   "metadata": {},
   "outputs": [
    {
     "name": "stdout",
     "output_type": "stream",
     "text": [
      "Learning started. It takes sometime\n",
      "[Epoch:    1] cost = 0.175449371\n",
      "[Epoch:    2] cost = 0.0497100502\n",
      "[Epoch:    3] cost = 0.0375072099\n",
      "[Epoch:    4] cost = 0.0281976983\n",
      "[Epoch:    5] cost = 0.0210385974\n",
      "[Epoch:    6] cost = 0.0204906464\n",
      "[Epoch:    7] cost = 0.0174233206\n",
      "[Epoch:    8] cost = 0.0139079904\n",
      "[Epoch:    9] cost = 0.0118833585\n",
      "[Epoch:   10] cost = 0.0117938006\n",
      "[Epoch:   11] cost = 0.0100219361\n",
      "[Epoch:   12] cost = 0.00921284873\n",
      "[Epoch:   13] cost = 0.00853138231\n",
      "[Epoch:   14] cost = 0.00713493442\n",
      "Learning Finished\n"
     ]
    }
   ],
   "source": [
    "#모델 학습\n",
    "total_batch = len(data_loader)\n",
    "\n",
    "print('Learning started. It takes sometime')\n",
    "\n",
    "for epoch in range(training_epochs):\n",
    "    avg_cost = 0\n",
    "    for X, Y in data_loader:\n",
    "        X = X.to(device) # 요기!\n",
    "        Y = Y.to(device)\n",
    "        \n",
    "        optimizer.zero_grad()\n",
    "        hypothesis = model(X)\n",
    "        cost = criterion(hypothesis, Y)\n",
    "        cost.backward()\n",
    "        optimizer.step()\n",
    "        \n",
    "        avg_cost += cost / total_batch\n",
    "        \n",
    "    print('[Epoch: {:>4}] cost = {:>.9}'.format(epoch + 1, avg_cost))\n",
    "\n",
    "print('Learning Finished')"
   ]
  },
  {
   "cell_type": "code",
   "execution_count": 30,
   "metadata": {},
   "outputs": [
    {
     "name": "stdout",
     "output_type": "stream",
     "text": [
      "Accuracy:  0.9858999848365784\n"
     ]
    }
   ],
   "source": [
    "#모델 성능 확인\n",
    "with torch.no_grad():\n",
    "    X_test = mnist_test.test_data.view(len(mnist_test),1,28,28).float().to(device)\n",
    "    Y_test = mnist_test.test_labels.to(device)\n",
    "    \n",
    "    prediction = model(X_test) \n",
    "    correct_prediction = torch.argmax(prediction,1)== Y_test\n",
    "    accuracy = correct_prediction.float().mean()\n",
    "    print('Accuracy: ', accuracy.item())"
   ]
  },
  {
   "cell_type": "code",
   "execution_count": null,
   "metadata": {},
   "outputs": [],
   "source": []
  }
 ],
 "metadata": {
  "kernelspec": {
   "display_name": "Python 3",
   "language": "python",
   "name": "python3"
  },
  "language_info": {
   "codemirror_mode": {
    "name": "ipython",
    "version": 3
   },
   "file_extension": ".py",
   "mimetype": "text/x-python",
   "name": "python",
   "nbconvert_exporter": "python",
   "pygments_lexer": "ipython3",
   "version": "3.7.6"
  }
 },
 "nbformat": 4,
 "nbformat_minor": 4
}
