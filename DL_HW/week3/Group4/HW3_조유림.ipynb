{
 "cells": [
  {
   "cell_type": "code",
   "execution_count": 1,
   "metadata": {},
   "outputs": [],
   "source": [
    "import torch\n",
    "import torchvision.datasets as dsets\n",
    "import torchvision.transforms as transforms\n",
    "import torch.nn.init\n",
    "import matplotlib.pyplot as plt"
   ]
  },
  {
   "cell_type": "markdown",
   "metadata": {},
   "source": [
    "1. zero-padding 적용"
   ]
  },
  {
   "cell_type": "code",
   "execution_count": 2,
   "metadata": {},
   "outputs": [
    {
     "name": "stdout",
     "output_type": "stream",
     "text": [
      "tensor([[0., 0., 0., 0., 0., 0., 0., 0.],\n",
      "        [0., 2., 0., 2., 1., 3., 2., 0.],\n",
      "        [0., 0., 2., 0., 2., 2., 2., 0.],\n",
      "        [0., 1., 0., 1., 3., 1., 1., 0.],\n",
      "        [0., 0., 0., 1., 1., 1., 0., 0.],\n",
      "        [0., 0., 1., 3., 4., 1., 0., 0.],\n",
      "        [0., 0., 1., 0., 0., 5., 2., 0.],\n",
      "        [0., 0., 0., 0., 0., 0., 0., 0.]])\n"
     ]
    }
   ],
   "source": [
    "img = torch.FloatTensor([[0.,0.,0.,0.,0.,0.,0.,0.],\n",
    "                        [0.,2.,0.,2.,1.,3.,2.,0.], \n",
    "                        [0.,0.,2.,0.,2.,2.,2.,0.],\n",
    "                        [0.,1.,0.,1.,3.,1.,1.,0.],\n",
    "                        [0.,0.,0.,1.,1.,1.,0.,0.],\n",
    "                        [0.,0.,1.,3.,4.,1.,0.,0.],\n",
    "                        [0.,0.,1.,0.,0.,5.,2.,0.],\n",
    "                        [0.,0.,0.,0.,0.,0.,0.,0.]\n",
    "                        ])\n",
    "print(img)"
   ]
  },
  {
   "cell_type": "code",
   "execution_count": 3,
   "metadata": {},
   "outputs": [
    {
     "name": "stdout",
     "output_type": "stream",
     "text": [
      "tensor([[1., 0., 0.],\n",
      "        [0., 1., 0.],\n",
      "        [0., 0., 1.]])\n"
     ]
    }
   ],
   "source": [
    "filter = torch.FloatTensor([[1,0,0],\n",
    "                           [0,1,0],\n",
    "                           [0,0,1]] \n",
    "                          )\n",
    "print(filter)"
   ]
  },
  {
   "cell_type": "markdown",
   "metadata": {},
   "source": [
    "2. filter 적용 후"
   ]
  },
  {
   "cell_type": "code",
   "execution_count": 4,
   "metadata": {},
   "outputs": [
    {
     "name": "stdout",
     "output_type": "stream",
     "text": [
      "tensor([[ 4.,  0.,  4.,  3.,  5.,  2.],\n",
      "        [ 0.,  5.,  3.,  5.,  4.,  5.],\n",
      "        [ 1.,  1.,  4.,  4.,  3.,  3.],\n",
      "        [ 1.,  4.,  5.,  3.,  4.,  1.],\n",
      "        [ 1.,  1.,  3., 10.,  4.,  1.],\n",
      "        [ 0.,  1.,  1.,  3.,  9.,  3.]])\n"
     ]
    }
   ],
   "source": [
    "out = torch.FloatTensor([[4,0,4,3,5,2],\n",
    "                         [0,5,3,5,4,5],\n",
    "                         [1,1,4,4,3,3],\n",
    "                         [1,4,5,3,4,1],\n",
    "                         [1,1,3,10,4,1],\n",
    "                         [0,1,1,3,9,3]])\n",
    "print(out)"
   ]
  },
  {
   "cell_type": "markdown",
   "metadata": {},
   "source": [
    "3. MaxPooling 적용 후"
   ]
  },
  {
   "cell_type": "code",
   "execution_count": 5,
   "metadata": {},
   "outputs": [
    {
     "name": "stdout",
     "output_type": "stream",
     "text": [
      "tensor([[ 5.,  5.,  5.],\n",
      "        [ 4.,  5.,  4.],\n",
      "        [ 1., 10.,  9.]])\n"
     ]
    }
   ],
   "source": [
    "out = torch.FloatTensor([[5,5,5],\n",
    "                        [4,5,4],\n",
    "                        [1,10,9]])\n",
    "print(out)"
   ]
  },
  {
   "cell_type": "markdown",
   "metadata": {},
   "source": [
    "## Q2"
   ]
  },
  {
   "cell_type": "code",
   "execution_count": 6,
   "metadata": {},
   "outputs": [],
   "source": [
    "import torch\n",
    "import torchvision.datasets as dsets\n",
    "import torchvision.transforms as transforms\n",
    "import torch.nn.init"
   ]
  },
  {
   "cell_type": "code",
   "execution_count": 7,
   "metadata": {},
   "outputs": [],
   "source": [
    "learning_rate = 0.001\n",
    "training_epochs = 15\n",
    "batch_size = 100\n",
    "\n",
    "mnist_train = dsets.MNIST(root='MNIST_data/',\n",
    "                          train=True,\n",
    "                          transform=transforms.ToTensor())\n",
    "\n",
    "mnist_test = dsets.MNIST(root='MNIST_data/',\n",
    "                         train=False,\n",
    "                         transform=transforms.ToTensor())\n",
    "\n",
    "\n",
    "data_loader = torch.utils.data.DataLoader(dataset=mnist_train,\n",
    "                                          batch_size=batch_size,\n",
    "                                          shuffle=True,\n",
    "                                          drop_last=True)"
   ]
  },
  {
   "cell_type": "markdown",
   "metadata": {},
   "source": [
    "2-1)"
   ]
  },
  {
   "cell_type": "code",
   "execution_count": 8,
   "metadata": {},
   "outputs": [],
   "source": [
    "class CNN(torch.nn.Module):\n",
    "\n",
    "    def __init__(self):\n",
    "        super(CNN, self).__init__()\n",
    "        self.keep_prob = 0.5\n",
    "        \n",
    "        self.layer1 = torch.nn.Sequential(\n",
    "            torch.nn.Conv2d(1, 32, kernel_size=4, stride=1, padding=1),\n",
    "            torch.nn.ReLU(),\n",
    "            torch.nn.MaxPool2d(kernel_size=2, stride=2))\n",
    "\n",
    "        self.layer2 = torch.nn.Sequential(\n",
    "            torch.nn.Conv2d(32, 64, kernel_size=3, stride=1, padding=1),\n",
    "            torch.nn.ReLU(),\n",
    "            torch.nn.MaxPool2d(kernel_size=2, stride=2))\n",
    "\n",
    "        self.layer3 = torch.nn.Sequential(\n",
    "            torch.nn.Conv2d(64, 128, kernel_size=3, stride=2, padding=1),\n",
    "            torch.nn.ReLU(),\n",
    "            torch.nn.MaxPool2d(kernel_size=2, stride=2, padding=1))\n",
    "\n",
    "        self.fc1 = torch.nn.Linear(2 * 2 * 128, 625, bias=True)\n",
    "        \n",
    "        torch.nn.init.xavier_uniform_(self.fc1.weight)\n",
    "        \n",
    "        self.layer4 = torch.nn.Sequential(\n",
    "            self.fc1,\n",
    "            torch.nn.ReLU(),\n",
    "            torch.nn.Dropout(p=1 - self.keep_prob))\n",
    "\n",
    "        self.fc2 = torch.nn.Linear(625, 10, bias=True)\n",
    "        torch.nn.init.xavier_uniform_(self.fc2.weight)\n",
    "\n",
    "    def forward(self, x):\n",
    "        out = self.layer1(x)\n",
    "        out = self.layer2(out)\n",
    "        out = self.layer3(out)\n",
    "        out = out.view(out.size(0), -1)   # Flatten them for FC\n",
    "        out = self.layer4(out)\n",
    "        out = self.fc2(out)\n",
    "        return out"
   ]
  },
  {
   "cell_type": "markdown",
   "metadata": {},
   "source": [
    "2-2)  size : (128,2,2) "
   ]
  },
  {
   "cell_type": "code",
   "execution_count": 9,
   "metadata": {},
   "outputs": [
    {
     "data": {
      "text/plain": [
       "torch.Size([1, 128, 2, 2])"
      ]
     },
     "execution_count": 9,
     "metadata": {},
     "output_type": "execute_result"
    }
   ],
   "source": [
    "input = torch.Tensor(1,1,28,28)\n",
    "conv1 = torch.nn.Conv2d(1, 32, kernel_size=4, stride=1, padding=1)\n",
    "conv2 = torch.nn.Conv2d(32, 64, kernel_size=3, stride=1, padding=1)\n",
    "conv3 = torch.nn.Conv2d(64, 128, kernel_size=3, stride=2, padding=1)\n",
    "pool = torch.nn.MaxPool2d(kernel_size=2, stride=2)\n",
    "pool2 =torch.nn.MaxPool2d(kernel_size=2, stride=2, padding=1)\n",
    "\n",
    "out = conv1(input)\n",
    "out = pool(out)\n",
    "out = conv2(out)\n",
    "out = pool(out)\n",
    "out = conv3(out)\n",
    "out = pool2(out)\n",
    "\n",
    "out.shape"
   ]
  },
  {
   "cell_type": "code",
   "execution_count": 10,
   "metadata": {},
   "outputs": [],
   "source": [
    "model = CNN()\n",
    "\n",
    "criterion = torch.nn.CrossEntropyLoss()\n",
    "optimizer = torch.optim.Adam(model.parameters(),lr=learning_rate)"
   ]
  },
  {
   "cell_type": "code",
   "execution_count": 11,
   "metadata": {},
   "outputs": [
    {
     "name": "stdout",
     "output_type": "stream",
     "text": [
      "[Epoch:    1] cost = 0.240598843\n",
      "[Epoch:    2] cost = 0.0616202652\n",
      "[Epoch:    3] cost = 0.0441167206\n",
      "[Epoch:    4] cost = 0.0368555374\n",
      "[Epoch:    5] cost = 0.0277456604\n",
      "[Epoch:    6] cost = 0.0240929853\n",
      "[Epoch:    7] cost = 0.0203399286\n",
      "[Epoch:    8] cost = 0.017216647\n",
      "[Epoch:    9] cost = 0.0164546594\n",
      "[Epoch:   10] cost = 0.0141083607\n",
      "[Epoch:   11] cost = 0.0126078837\n",
      "[Epoch:   12] cost = 0.010524869\n",
      "[Epoch:   13] cost = 0.0108740414\n",
      "[Epoch:   14] cost = 0.00891111512\n",
      "[Epoch:   15] cost = 0.00998338591\n"
     ]
    }
   ],
   "source": [
    "total_batch = len(data_loader)\n",
    "model.train()    \n",
    "\n",
    "for epoch in range(training_epochs):\n",
    "    avg_cost = 0\n",
    "\n",
    "    for X, Y in data_loader:\n",
    "        \n",
    "        optimizer.zero_grad()\n",
    "        hypothesis = model(X)\n",
    "        cost = criterion(hypothesis, Y)\n",
    "        cost.backward()\n",
    "        optimizer.step()\n",
    "\n",
    "        avg_cost += cost / total_batch\n",
    "\n",
    "    print('[Epoch: {:>4}] cost = {:>.9}'.format(epoch + 1, avg_cost))"
   ]
  },
  {
   "cell_type": "code",
   "execution_count": 13,
   "metadata": {},
   "outputs": [
    {
     "name": "stderr",
     "output_type": "stream",
     "text": [
      "C:\\ProgramData\\Anaconda3\\lib\\site-packages\\torchvision\\datasets\\mnist.py:50: UserWarning: test_labels has been renamed targets\n",
      "  warnings.warn(\"test_labels has been renamed targets\")\n"
     ]
    },
    {
     "name": "stdout",
     "output_type": "stream",
     "text": [
      "Accuracy: 0.984499990940094\n"
     ]
    }
   ],
   "source": [
    "with torch.no_grad():\n",
    "    model.eval()  \n",
    "\n",
    "    X_test = mnist_test.test_data.view(len(mnist_test), 1, 28, 28).float()\n",
    "    Y_test = mnist_test.test_labels\n",
    "\n",
    "    prediction = model(X_test)\n",
    "    correct_prediction = torch.argmax(prediction, 1) == Y_test\n",
    "    accuracy = correct_prediction.float().mean()\n",
    "    print('Accuracy:', accuracy.item())"
   ]
  }
 ],
 "metadata": {
  "kernelspec": {
   "display_name": "Python 3",
   "language": "python",
   "name": "python3"
  },
  "language_info": {
   "codemirror_mode": {
    "name": "ipython",
    "version": 3
   },
   "file_extension": ".py",
   "mimetype": "text/x-python",
   "name": "python",
   "nbconvert_exporter": "python",
   "pygments_lexer": "ipython3",
   "version": "3.8.3"
  }
 },
 "nbformat": 4,
 "nbformat_minor": 4
}
