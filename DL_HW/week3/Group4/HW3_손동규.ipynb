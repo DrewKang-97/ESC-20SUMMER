{
  "nbformat": 4,
  "nbformat_minor": 0,
  "metadata": {
    "colab": {
      "name": "HW3_손동규.ipynb",
      "provenance": []
    },
    "kernelspec": {
      "name": "python3",
      "display_name": "Python 3"
    },
    "accelerator": "GPU"
  },
  "cells": [
    {
      "cell_type": "markdown",
      "metadata": {
        "id": "fqS2N1rmDRMq",
        "colab_type": "text"
      },
      "source": [
        "Q1."
      ]
    },
    {
      "cell_type": "code",
      "metadata": {
        "id": "eFMjht6Z9r1S",
        "colab_type": "code",
        "colab": {}
      },
      "source": [
        "import numpy as np\n",
        "\n",
        "def convolution(data, filter, padding, stride):\n",
        "  padded = np.pad(data, padding, mode = 'constant', constant_values = 0)\n",
        "  row = int((data.shape[0]-filter.shape[0]+2*padding)/stride + 1)\n",
        "  col = int((data.shape[1]-filter.shape[1]+2*padding)/stride + 1)\n",
        "  filtered = np.zeros((row, col))\n",
        "  for i in range(row):\n",
        "    for j in range(col):\n",
        "      val = padded[stride*i:stride*i+filter.shape[0], stride*j:stride*j+filter.shape[1]]*filter\n",
        "      filtered[i, j] = val.sum()\n",
        "  return filtered"
      ],
      "execution_count": 1,
      "outputs": []
    },
    {
      "cell_type": "code",
      "metadata": {
        "id": "YPZhLIpr_Ee_",
        "colab_type": "code",
        "colab": {
          "base_uri": "https://localhost:8080/",
          "height": 124
        },
        "outputId": "e2ad1ac1-a97c-42e8-afc9-861fe4348097"
      },
      "source": [
        "a = np.array([[2, 0, 2, 1, 3, 2], \n",
        "              [0, 2, 0, 2, 2, 2], \n",
        "              [1, 0, 1, 3, 1, 1], \n",
        "              [0, 0, 1, 1, 1, 0], \n",
        "              [0, 1, 3 ,4 ,1, 0],\n",
        "              [0, 1, 0, 0, 5, 2]])\n",
        "b = np.identity(3)\n",
        "\n",
        "convolution(a, b, 1, 1)"
      ],
      "execution_count": 2,
      "outputs": [
        {
          "output_type": "execute_result",
          "data": {
            "text/plain": [
              "array([[ 4.,  0.,  4.,  3.,  5.,  2.],\n",
              "       [ 0.,  5.,  3.,  5.,  4.,  5.],\n",
              "       [ 1.,  1.,  4.,  4.,  3.,  3.],\n",
              "       [ 1.,  4.,  5.,  3.,  4.,  1.],\n",
              "       [ 1.,  1.,  3., 10.,  4.,  1.],\n",
              "       [ 0.,  1.,  1.,  3.,  9.,  3.]])"
            ]
          },
          "metadata": {
            "tags": []
          },
          "execution_count": 2
        }
      ]
    },
    {
      "cell_type": "code",
      "metadata": {
        "id": "JeHh-5r3ANqa",
        "colab_type": "code",
        "colab": {}
      },
      "source": [
        "def maxpool(data, size, padding, stride):\n",
        "  row = int((data.shape[0]-size+2*padding)/stride + 1)\n",
        "  col = int((data.shape[1]-size+2*padding)/stride + 1)\n",
        "  filtered = np.zeros((row, col))\n",
        "  for i in range(row):\n",
        "    for j in range(col):\n",
        "     val = np.max(data[stride*i:stride*i+size, stride*j:stride*j+size])\n",
        "     filtered[i, j] = val\n",
        "  return filtered"
      ],
      "execution_count": 3,
      "outputs": []
    },
    {
      "cell_type": "code",
      "metadata": {
        "id": "E9c1OLokA-XI",
        "colab_type": "code",
        "colab": {
          "base_uri": "https://localhost:8080/",
          "height": 70
        },
        "outputId": "ba1da215-3f43-4e47-aec3-335a2769df96"
      },
      "source": [
        "c = convolution(a, b, 1, 1)\n",
        "maxpool(c, 2, 0, 2)"
      ],
      "execution_count": 4,
      "outputs": [
        {
          "output_type": "execute_result",
          "data": {
            "text/plain": [
              "array([[ 5.,  5.,  5.],\n",
              "       [ 4.,  5.,  4.],\n",
              "       [ 1., 10.,  9.]])"
            ]
          },
          "metadata": {
            "tags": []
          },
          "execution_count": 4
        }
      ]
    },
    {
      "cell_type": "markdown",
      "metadata": {
        "id": "7xSqS0O4Da3y",
        "colab_type": "text"
      },
      "source": [
        "Q2. "
      ]
    },
    {
      "cell_type": "code",
      "metadata": {
        "id": "8hHF_FEJOdgv",
        "colab_type": "code",
        "colab": {}
      },
      "source": [
        "import torch\n",
        "import torch.nn as nn\n",
        "import torchvision.datasets as dsets\n",
        "import torchvision.transforms as transforms\n",
        "import torch.nn.init"
      ],
      "execution_count": 5,
      "outputs": []
    },
    {
      "cell_type": "code",
      "metadata": {
        "id": "O5EKY7CSDyLK",
        "colab_type": "code",
        "colab": {}
      },
      "source": [
        "device = \"cuda\" if torch.cuda.is_available() else \"cpu\"\n",
        "\n",
        "torch.manual_seed(20200813)\n",
        "if device == \"cuda\":\n",
        "  torch.cuda.manual_seed_all(20200813)"
      ],
      "execution_count": 6,
      "outputs": []
    },
    {
      "cell_type": "code",
      "metadata": {
        "id": "jU8F8vsbNPwy",
        "colab_type": "code",
        "colab": {}
      },
      "source": [
        "learning_rate = 0.0001\n",
        "training_epochs = 15\n",
        "batch_size = 100"
      ],
      "execution_count": 7,
      "outputs": []
    },
    {
      "cell_type": "code",
      "metadata": {
        "id": "R3GyeFSRNVuM",
        "colab_type": "code",
        "colab": {}
      },
      "source": [
        "mnist_train = dsets.MNIST(root='MNIST_data', train=True, download = True,\n",
        "                      transform=transforms.ToTensor())\n",
        "mnist_test = dsets.MNIST(root='MNIST_data', train=False, download = True,\n",
        "                      transform=transforms.ToTensor())"
      ],
      "execution_count": 8,
      "outputs": []
    },
    {
      "cell_type": "code",
      "metadata": {
        "id": "3U1W0HhoOvU4",
        "colab_type": "code",
        "colab": {}
      },
      "source": [
        "data_loader = torch.utils.data.DataLoader(dataset = mnist_train,\n",
        "                                          batch_size = batch_size,\n",
        "                                          shuffle = True,\n",
        "                                          drop_last = True)"
      ],
      "execution_count": 9,
      "outputs": []
    },
    {
      "cell_type": "code",
      "metadata": {
        "id": "MD-UIHrEO5Hr",
        "colab_type": "code",
        "colab": {}
      },
      "source": [
        "class CNN(nn.Module):\n",
        "\n",
        "  def __init__(self):\n",
        "    super(CNN, self).__init__()\n",
        "    self.keep_prob = 0.5\n",
        "\n",
        "    self.layer1 = nn.Sequential(\n",
        "        nn.Conv2d(1, 32, kernel_size=3, stride = 1, padding = 1),\n",
        "        nn.ReLU(),\n",
        "        nn.MaxPool2d(kernel_size = 2, stride = 2))\n",
        "    \n",
        "    self.layer2 = nn.Sequential(\n",
        "        nn.Conv2d(32, 64, kernel_size=3, stride = 1, padding = 1),\n",
        "        nn.ReLU(),\n",
        "        nn.MaxPool2d(kernel_size = 2, stride = 2))\n",
        "    \n",
        "    self.layer3 = nn.Sequential(\n",
        "        nn.Conv2d(64, 128, kernel_size=3, stride = 1, padding = 1),\n",
        "        nn.ReLU(),\n",
        "        nn.MaxPool2d(kernel_size = 2, stride = 2, padding = 1))\n",
        "    \n",
        "    self.fc1 = nn.Linear(4*4*128, 625, bias = True)\n",
        "    nn.init.xavier_uniform_(self.fc1.weight)\n",
        "\n",
        "    self.layer4 = nn.Sequential(\n",
        "        self.fc1,\n",
        "        nn.ReLU(),\n",
        "        nn.Dropout(p = 1 - self.keep_prob))\n",
        "\n",
        "    self.fc2 = nn.Linear(625, 10, bias = True)\n",
        "    nn.init.xavier_uniform_(self.fc2.weight)\n",
        "    \n",
        "  def forward(self, x):\n",
        "    out = self.layer1(x)\n",
        "    out = self.layer2(out)\n",
        "    out = self.layer3(out)\n",
        "    out = out.view(out.size(0), -1)\n",
        "    out = self.layer4(out)\n",
        "    out = self.fc2(out)\n",
        "    return out"
      ],
      "execution_count": 10,
      "outputs": []
    },
    {
      "cell_type": "code",
      "metadata": {
        "id": "Xfj3WSCBRY28",
        "colab_type": "code",
        "colab": {}
      },
      "source": [
        "model = CNN().to(device)\n",
        "\n",
        "criterion = nn.CrossEntropyLoss().to(device)\n",
        "optimizer = torch.optim.Adam(model.parameters(), lr = learning_rate)"
      ],
      "execution_count": 11,
      "outputs": []
    },
    {
      "cell_type": "code",
      "metadata": {
        "id": "I6mvoyvbRnEW",
        "colab_type": "code",
        "colab": {
          "base_uri": "https://localhost:8080/",
          "height": 284
        },
        "outputId": "6093069c-2492-4f2c-b8ac-2276c805af2b"
      },
      "source": [
        "total_batch = len(data_loader)\n",
        "for epoch in range(training_epochs):\n",
        "  avg_cost = 0\n",
        "  for X, Y in data_loader:\n",
        "    X = X.to(device)\n",
        "    Y = Y.to(device)\n",
        "\n",
        "    optimizer.zero_grad()\n",
        "    hypothesis = model(X)\n",
        "    cost = criterion(hypothesis, Y)\n",
        "    cost.backward()\n",
        "    optimizer.step()\n",
        "\n",
        "    avg_cost += cost / total_batch\n",
        "\n",
        "  print(\"[Epoch : {:>4}] cost = {:>.9}\".format(epoch+1, avg_cost))"
      ],
      "execution_count": 12,
      "outputs": [
        {
          "output_type": "stream",
          "text": [
            "[Epoch :    1] cost = 0.575423241\n",
            "[Epoch :    2] cost = 0.140181899\n",
            "[Epoch :    3] cost = 0.0947432071\n",
            "[Epoch :    4] cost = 0.0740209371\n",
            "[Epoch :    5] cost = 0.0614111498\n",
            "[Epoch :    6] cost = 0.0529778749\n",
            "[Epoch :    7] cost = 0.0466391817\n",
            "[Epoch :    8] cost = 0.0413130224\n",
            "[Epoch :    9] cost = 0.0376178138\n",
            "[Epoch :   10] cost = 0.0337501541\n",
            "[Epoch :   11] cost = 0.030601291\n",
            "[Epoch :   12] cost = 0.0291583221\n",
            "[Epoch :   13] cost = 0.0267761555\n",
            "[Epoch :   14] cost = 0.0231114924\n",
            "[Epoch :   15] cost = 0.0215576962\n"
          ],
          "name": "stdout"
        }
      ]
    },
    {
      "cell_type": "code",
      "metadata": {
        "id": "QJ5haCznVkkK",
        "colab_type": "code",
        "colab": {
          "base_uri": "https://localhost:8080/",
          "height": 126
        },
        "outputId": "f357b2f5-d23a-4c4a-c055-6f29296efe0b"
      },
      "source": [
        "with torch.no_grad():\n",
        "  model.eval()\n",
        "\n",
        "  X_test = mnist_test.test_data.view(len(mnist_test), 1, 28, 28).float().to(device)\n",
        "  Y_test = mnist_test.test_labels.to(device)\n",
        "\n",
        "  prediction = model(X_test)\n",
        "  correct_prediction = torch.argmax(prediction, 1) == Y_test\n",
        "  accuracy = correct_prediction.float().mean()\n",
        "  print(\"Accuracy:\", accuracy.item())"
      ],
      "execution_count": 13,
      "outputs": [
        {
          "output_type": "stream",
          "text": [
            "Accuracy: 0.9847999811172485\n"
          ],
          "name": "stdout"
        },
        {
          "output_type": "stream",
          "text": [
            "/usr/local/lib/python3.6/dist-packages/torchvision/datasets/mnist.py:60: UserWarning: test_data has been renamed data\n",
            "  warnings.warn(\"test_data has been renamed data\")\n",
            "/usr/local/lib/python3.6/dist-packages/torchvision/datasets/mnist.py:50: UserWarning: test_labels has been renamed targets\n",
            "  warnings.warn(\"test_labels has been renamed targets\")\n"
          ],
          "name": "stderr"
        }
      ]
    },
    {
      "cell_type": "code",
      "metadata": {
        "id": "8ScjiouBX2Pu",
        "colab_type": "code",
        "colab": {}
      },
      "source": [
        "class CNN2(nn.Module):\n",
        "\n",
        "  def __init__(self):\n",
        "    super(CNN2, self).__init__()\n",
        "    self.keep_prob = 0.5\n",
        "\n",
        "    self.layer1 = nn.Sequential(\n",
        "        nn.Conv2d(1, 32, kernel_size=4, stride = 1, padding = 1),\n",
        "        nn.ReLU(),\n",
        "        nn.MaxPool2d(kernel_size = 2, stride = 2))\n",
        "    \n",
        "    self.layer2 = nn.Sequential(\n",
        "        nn.Conv2d(32, 64, kernel_size=3, stride = 1, padding = 1),\n",
        "        nn.ReLU(),\n",
        "        nn.MaxPool2d(kernel_size = 2, stride = 2))\n",
        "    \n",
        "    self.layer3 = nn.Sequential(\n",
        "        nn.Conv2d(64, 128, kernel_size=3, stride = 2, padding = 1),\n",
        "        nn.ReLU(),\n",
        "        nn.MaxPool2d(kernel_size = 2, stride = 2, padding = 1))\n",
        "    \n",
        "    self.fc1 = nn.Linear(2*2*128, 625, bias = True)\n",
        "    nn.init.xavier_uniform_(self.fc1.weight)\n",
        "\n",
        "    self.layer4 = nn.Sequential(\n",
        "        self.fc1,\n",
        "        nn.ReLU(),\n",
        "        nn.Dropout(p = 1 - self.keep_prob))\n",
        "\n",
        "    self.fc2 = nn.Linear(625, 10, bias = True)\n",
        "    nn.init.xavier_uniform_(self.fc2.weight)\n",
        "    \n",
        "  def forward(self, x):\n",
        "    out = self.layer1(x)\n",
        "    out = self.layer2(out)\n",
        "    out = self.layer3(out)\n",
        "    out = out.view(out.size(0), -1)\n",
        "    out = self.layer4(out)\n",
        "    out = self.fc2(out)\n",
        "    return out"
      ],
      "execution_count": 14,
      "outputs": []
    },
    {
      "cell_type": "code",
      "metadata": {
        "id": "2fFzrBTMX8ZX",
        "colab_type": "code",
        "colab": {
          "base_uri": "https://localhost:8080/",
          "height": 284
        },
        "outputId": "1211919a-f45c-471a-f437-a383dabc2ee8"
      },
      "source": [
        "model = CNN2().to(device)\n",
        "\n",
        "criterion = nn.CrossEntropyLoss().to(device)\n",
        "optimizer = torch.optim.Adam(model.parameters(), lr = learning_rate)\n",
        "\n",
        "total_batch = len(data_loader)\n",
        "for epoch in range(training_epochs):\n",
        "  avg_cost = 0\n",
        "  for X, Y in data_loader:\n",
        "    X = X.to(device)\n",
        "    Y = Y.to(device)\n",
        "\n",
        "    optimizer.zero_grad()\n",
        "    hypothesis = model(X)\n",
        "    cost = criterion(hypothesis, Y)\n",
        "    cost.backward()\n",
        "    optimizer.step()\n",
        "\n",
        "    avg_cost += cost / total_batch\n",
        "\n",
        "  print(\"[Epoch : {:>4}] cost = {:>.9}\".format(epoch+1, avg_cost))"
      ],
      "execution_count": 15,
      "outputs": [
        {
          "output_type": "stream",
          "text": [
            "[Epoch :    1] cost = 0.793429673\n",
            "[Epoch :    2] cost = 0.178498879\n",
            "[Epoch :    3] cost = 0.121410757\n",
            "[Epoch :    4] cost = 0.0960009024\n",
            "[Epoch :    5] cost = 0.0794776827\n",
            "[Epoch :    6] cost = 0.0674418584\n",
            "[Epoch :    7] cost = 0.0596653707\n",
            "[Epoch :    8] cost = 0.0538495369\n",
            "[Epoch :    9] cost = 0.0487324819\n",
            "[Epoch :   10] cost = 0.0423983559\n",
            "[Epoch :   11] cost = 0.0395233966\n",
            "[Epoch :   12] cost = 0.0363375731\n",
            "[Epoch :   13] cost = 0.0338233076\n",
            "[Epoch :   14] cost = 0.0321975462\n",
            "[Epoch :   15] cost = 0.02903153\n"
          ],
          "name": "stdout"
        }
      ]
    },
    {
      "cell_type": "code",
      "metadata": {
        "id": "i0KF7FBwYDFn",
        "colab_type": "code",
        "colab": {
          "base_uri": "https://localhost:8080/",
          "height": 126
        },
        "outputId": "ef812272-b06c-4c21-f640-cf7d8648e8ca"
      },
      "source": [
        "with torch.no_grad():\n",
        "  model.eval()\n",
        "\n",
        "  X_test = mnist_test.test_data.view(len(mnist_test), 1, 28, 28).float().to(device)\n",
        "  Y_test = mnist_test.test_labels.to(device)\n",
        "\n",
        "  prediction = model(X_test)\n",
        "  correct_prediction = torch.argmax(prediction, 1) == Y_test\n",
        "  accuracy = correct_prediction.float().mean()\n",
        "  print(\"Accuracy:\", accuracy.item())"
      ],
      "execution_count": 16,
      "outputs": [
        {
          "output_type": "stream",
          "text": [
            "Accuracy: 0.9896000027656555\n"
          ],
          "name": "stdout"
        },
        {
          "output_type": "stream",
          "text": [
            "/usr/local/lib/python3.6/dist-packages/torchvision/datasets/mnist.py:60: UserWarning: test_data has been renamed data\n",
            "  warnings.warn(\"test_data has been renamed data\")\n",
            "/usr/local/lib/python3.6/dist-packages/torchvision/datasets/mnist.py:50: UserWarning: test_labels has been renamed targets\n",
            "  warnings.warn(\"test_labels has been renamed targets\")\n"
          ],
          "name": "stderr"
        }
      ]
    },
    {
      "cell_type": "markdown",
      "metadata": {
        "id": "lJ2TLFZjaa5M",
        "colab_type": "text"
      },
      "source": [
        "전 모델에 비하여 cost 증가, accuracy 증가. 하지만 유의미한 차이 없음."
      ]
    }
  ]
}