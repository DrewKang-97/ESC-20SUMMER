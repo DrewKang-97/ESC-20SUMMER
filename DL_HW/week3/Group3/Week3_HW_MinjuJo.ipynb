{
 "cells": [
  {
   "cell_type": "markdown",
   "metadata": {},
   "source": [
    "## 실습해보기"
   ]
  },
  {
   "cell_type": "markdown",
   "metadata": {},
   "source": [
    "### CNN 구조 확인"
   ]
  },
  {
   "cell_type": "code",
   "execution_count": 1,
   "metadata": {},
   "outputs": [],
   "source": [
    "import torch\n",
    "import torch.nn as nn"
   ]
  },
  {
   "cell_type": "code",
   "execution_count": 2,
   "metadata": {},
   "outputs": [
    {
     "name": "stdout",
     "output_type": "stream",
     "text": [
      "torch.Size([1, 1, 28, 28])\n"
     ]
    }
   ],
   "source": [
    "inputs = torch.Tensor(1, 1, 28, 28) #(batch_size, channel, weight, width)\n",
    "print(inputs.shape)"
   ]
  },
  {
   "cell_type": "code",
   "execution_count": 3,
   "metadata": {},
   "outputs": [],
   "source": [
    "# Layer1 설정\n",
    "conv1 = nn.Conv2d(1, 32, 3, padding = 1)\n",
    "pool = nn.MaxPool2d(2) # Layer에도 사용\n",
    "\n",
    "# Layer2 설정\n",
    "conv2 = nn.Conv2d(32, 64, 3, padding = 1)"
   ]
  },
  {
   "cell_type": "code",
   "execution_count": 4,
   "metadata": {},
   "outputs": [
    {
     "data": {
      "text/plain": [
       "torch.Size([1, 32, 28, 28])"
      ]
     },
     "execution_count": 4,
     "metadata": {},
     "output_type": "execute_result"
    }
   ],
   "source": [
    "# Layer1 통과\n",
    "out = conv1(inputs)\n",
    "out.shape"
   ]
  },
  {
   "cell_type": "code",
   "execution_count": 5,
   "metadata": {},
   "outputs": [
    {
     "data": {
      "text/plain": [
       "torch.Size([1, 32, 14, 14])"
      ]
     },
     "execution_count": 5,
     "metadata": {},
     "output_type": "execute_result"
    }
   ],
   "source": [
    "# Max pooling\n",
    "out = pool(out)\n",
    "out.shape"
   ]
  },
  {
   "cell_type": "code",
   "execution_count": 6,
   "metadata": {},
   "outputs": [
    {
     "data": {
      "text/plain": [
       "torch.Size([1, 64, 14, 14])"
      ]
     },
     "execution_count": 6,
     "metadata": {},
     "output_type": "execute_result"
    }
   ],
   "source": [
    "# Layer2 통과\n",
    "out = conv2(out)\n",
    "out.shape"
   ]
  },
  {
   "cell_type": "code",
   "execution_count": 7,
   "metadata": {},
   "outputs": [
    {
     "data": {
      "text/plain": [
       "torch.Size([1, 64, 7, 7])"
      ]
     },
     "execution_count": 7,
     "metadata": {},
     "output_type": "execute_result"
    }
   ],
   "source": [
    "# Max pooling\n",
    "out = pool(out)\n",
    "out.shape"
   ]
  },
  {
   "cell_type": "code",
   "execution_count": 8,
   "metadata": {},
   "outputs": [
    {
     "data": {
      "text/plain": [
       "torch.Size([1, 3136])"
      ]
     },
     "execution_count": 8,
     "metadata": {},
     "output_type": "execute_result"
    }
   ],
   "source": [
    "# view, FC 설정 후 size 확인\n",
    "out = out.view(out.size(0), -1) #out.size(0) = batch_size\n",
    "out.shape"
   ]
  },
  {
   "cell_type": "code",
   "execution_count": 9,
   "metadata": {},
   "outputs": [
    {
     "data": {
      "text/plain": [
       "tensor([[ 0.0229,  0.0667,  0.0287,  0.0806, -0.0546,  0.0962,  0.1502, -0.0794,\n",
       "         -0.0162, -0.0836]], grad_fn=<AddmmBackward>)"
      ]
     },
     "execution_count": 9,
     "metadata": {},
     "output_type": "execute_result"
    }
   ],
   "source": [
    "fc = nn.Linear(3136,10)\n",
    "out = fc(out)\n",
    "out"
   ]
  },
  {
   "cell_type": "code",
   "execution_count": 10,
   "metadata": {},
   "outputs": [
    {
     "data": {
      "text/plain": [
       "torch.Size([1, 10])"
      ]
     },
     "execution_count": 10,
     "metadata": {},
     "output_type": "execute_result"
    }
   ],
   "source": [
    "out.shape"
   ]
  },
  {
   "cell_type": "markdown",
   "metadata": {},
   "source": [
    "### 본격적으로 모델링!"
   ]
  },
  {
   "cell_type": "code",
   "execution_count": 11,
   "metadata": {},
   "outputs": [],
   "source": [
    "import torch\n",
    "import torchvision.datasets as dsets\n",
    "import torchvision.transforms as transforms\n",
    "import torch.nn.init"
   ]
  },
  {
   "cell_type": "code",
   "execution_count": 12,
   "metadata": {},
   "outputs": [],
   "source": [
    "device = 'cuda' if torch.cuda.is_available() else 'cpu'\n",
    "\n",
    "#for reproducibility\n",
    "torch.manual_seed(777)\n",
    "if device == 'cuda':\n",
    "    torch.cuda.manual_seed_all(777)"
   ]
  },
  {
   "cell_type": "code",
   "execution_count": 13,
   "metadata": {},
   "outputs": [],
   "source": [
    "# train에 사용되는 params 설정\n",
    "learning_rate = 0.001\n",
    "training_epochs = 15\n",
    "batch_size = 100"
   ]
  },
  {
   "cell_type": "code",
   "execution_count": 14,
   "metadata": {},
   "outputs": [],
   "source": [
    "# 데이터셋 가져오기\n",
    "mnist_train = dsets.MNIST(root = 'MNIST_data/',\n",
    "                         train = True,\n",
    "                         transform = transforms.ToTensor(),\n",
    "                         download = True)\n",
    "\n",
    "mnist_test = dsets.MNIST(root = 'MNIST_data/',\n",
    "                        train = False,\n",
    "                        transform = transforms.ToTensor(),\n",
    "                        download = True)"
   ]
  },
  {
   "cell_type": "code",
   "execution_count": 15,
   "metadata": {},
   "outputs": [],
   "source": [
    "# (학습에 쓰기 편하게) loader 만들기\n",
    "data_loader = torch.utils.data.DataLoader(dataset = mnist_train,\n",
    "                                         batch_size = batch_size,\n",
    "                                         shuffle = True,\n",
    "                                         drop_last = True)"
   ]
  },
  {
   "cell_type": "code",
   "execution_count": 16,
   "metadata": {},
   "outputs": [],
   "source": [
    "# CNN Model (2 Conv layers)\n",
    "class CNN(nn.Module):\n",
    "    def __init__(self):\n",
    "        super(CNN, self).__init__()\n",
    "        \n",
    "        self.layer1 = nn.Sequential(nn.Conv2d(1, 32, kernel_size =3, stride = 1, padding = 1),\n",
    "                                   nn.ReLU(),\n",
    "                                   nn.MaxPool2d(kernel_size = 2, stride = 2))\n",
    "        \n",
    "        self.layer2 = nn.Sequential(nn.Conv2d(32, 64, kernel_size = 3, stride = 1, padding = 1),\n",
    "                                    nn.ReLU(),\n",
    "                                    nn.MaxPool2d(kernel_size = 2, stride = 2))\n",
    "        \n",
    "        self.fc= nn.Linear(7 * 7 * 64, 10, bias = True)\n",
    "        nn.init.xavier_uniform_(self.fc.weight)\n",
    "        \n",
    "    def forward(self, x):\n",
    "        out = self.layer1(x)\n",
    "        out = self.layer2(out)\n",
    "        out = out.view(out.size(0), -1) #Flatten them for FC\n",
    "        out = self.fc(out)\n",
    "        \n",
    "        return out"
   ]
  },
  {
   "cell_type": "code",
   "execution_count": 17,
   "metadata": {},
   "outputs": [],
   "source": [
    "#instantiate CNN model\n",
    "model = CNN().to(device)"
   ]
  },
  {
   "cell_type": "code",
   "execution_count": 18,
   "metadata": {},
   "outputs": [],
   "source": [
    "criterion = nn.CrossEntropyLoss().to(device) # Softmax is internally computed\n",
    "optimizer = torch.optim.Adam(model.parameters(), lr = learning_rate)"
   ]
  },
  {
   "cell_type": "code",
   "execution_count": 19,
   "metadata": {},
   "outputs": [
    {
     "name": "stdout",
     "output_type": "stream",
     "text": [
      "Learning started. It takes sometime.\n",
      "[Epoch:    1] cost 0.223989323\n",
      "[Epoch:    2] cost 0.0622294322\n",
      "[Epoch:    3] cost 0.0449114479\n",
      "[Epoch:    4] cost 0.0355332792\n",
      "[Epoch:    5] cost 0.0290651843\n",
      "[Epoch:    6] cost 0.024860831\n",
      "[Epoch:    7] cost 0.0207230989\n",
      "[Epoch:    8] cost 0.0181342494\n",
      "[Epoch:    9] cost 0.0151020652\n",
      "[Epoch:   10] cost 0.0125892395\n",
      "[Epoch:   11] cost 0.010402537\n",
      "[Epoch:   12] cost 0.0100278081\n",
      "[Epoch:   13] cost 0.00808638241\n",
      "[Epoch:   14] cost 0.0080219917\n",
      "[Epoch:   15] cost 0.00593501842\n",
      "Learning Finished!\n"
     ]
    }
   ],
   "source": [
    "# 모델 학습 및 loss check(Criterion의 output)\n",
    "total_batch = len(data_loader)\n",
    "print('Learning started. It takes sometime.')\n",
    "\n",
    "for epoch in range(training_epochs):\n",
    "    avg_cost = 0\n",
    "    \n",
    "    for X, Y in data_loader:\n",
    "        X = X.to(device)\n",
    "        Y = Y.to(device)\n",
    "        \n",
    "        optimizer.zero_grad()\n",
    "        hypothesis = model(X)\n",
    "        cost = criterion(hypothesis, Y)\n",
    "        cost.backward()\n",
    "        optimizer.step()\n",
    "        \n",
    "        avg_cost += cost / total_batch\n",
    "    \n",
    "    print('[Epoch: {:>4}] cost {:>.9}'.format(epoch + 1, avg_cost))\n",
    "    \n",
    "print(\"Learning Finished!\")"
   ]
  },
  {
   "cell_type": "code",
   "execution_count": 20,
   "metadata": {},
   "outputs": [
    {
     "name": "stderr",
     "output_type": "stream",
     "text": [
      "/Users/jominju/opt/anaconda3/lib/python3.7/site-packages/torchvision/datasets/mnist.py:60: UserWarning: test_data has been renamed data\n",
      "  warnings.warn(\"test_data has been renamed data\")\n",
      "/Users/jominju/opt/anaconda3/lib/python3.7/site-packages/torchvision/datasets/mnist.py:50: UserWarning: test_labels has been renamed targets\n",
      "  warnings.warn(\"test_labels has been renamed targets\")\n"
     ]
    },
    {
     "name": "stdout",
     "output_type": "stream",
     "text": [
      "Accuracy :  0.9850000143051147\n"
     ]
    }
   ],
   "source": [
    "with torch.no_grad():\n",
    "    X_test = mnist_test.test_data.view(len(mnist_test), 1, 28, 28).float().to(device)\n",
    "    Y_test = mnist_test.test_labels.to(device)\n",
    "    \n",
    "    prediction = model(X_test)\n",
    "    correct_prediction = torch.argmax(prediction, 1) == Y_test\n",
    "    accuracy = correct_prediction.float().mean()\n",
    "    print('Accuracy : ', accuracy.item())"
   ]
  },
  {
   "cell_type": "markdown",
   "metadata": {},
   "source": [
    "## Q1"
   ]
  },
  {
   "cell_type": "code",
   "execution_count": 21,
   "metadata": {},
   "outputs": [],
   "source": [
    "image = [[2,0,2,1,3,2],\n",
    "         [0,2,0,2,2,2],\n",
    "         [1,0,1,3,1,1],\n",
    "         [0,0,1,1,1,0],\n",
    "         [0,1,3,4,1,0],\n",
    "         [0,1,0,0,5,2]]\n",
    "\n",
    "filt = [[1,0,0],\n",
    "        [0,1,0],\n",
    "        [0,0,1]]"
   ]
  },
  {
   "cell_type": "code",
   "execution_count": 22,
   "metadata": {},
   "outputs": [
    {
     "data": {
      "text/plain": [
       "[[2, 0, 2, 1, 3, 2],\n",
       " [0, 2, 0, 2, 2, 2],\n",
       " [1, 0, 1, 3, 1, 1],\n",
       " [0, 0, 1, 1, 1, 0],\n",
       " [0, 1, 3, 4, 1, 0],\n",
       " [0, 1, 0, 0, 5, 2]]"
      ]
     },
     "execution_count": 22,
     "metadata": {},
     "output_type": "execute_result"
    }
   ],
   "source": [
    "image"
   ]
  },
  {
   "cell_type": "code",
   "execution_count": 23,
   "metadata": {
    "scrolled": true
   },
   "outputs": [
    {
     "data": {
      "text/plain": [
       "[[1, 0, 0], [0, 1, 0], [0, 0, 1]]"
      ]
     },
     "execution_count": 23,
     "metadata": {},
     "output_type": "execute_result"
    }
   ],
   "source": [
    "filt"
   ]
  },
  {
   "cell_type": "markdown",
   "metadata": {},
   "source": [
    "Zero padding"
   ]
  },
  {
   "cell_type": "code",
   "execution_count": 24,
   "metadata": {},
   "outputs": [],
   "source": [
    "# zero padding 크기 1\n",
    "zero_padded = []\n",
    "padded_len = len(image) + 2\n",
    "\n",
    "for i in range(padded_len):\n",
    "    zero_padded.append([0] * padded_len)\n",
    "    if i != 0 and i != padded_len - 1:\n",
    "        zero_padded[i][1:-1] = image[i-1]"
   ]
  },
  {
   "cell_type": "code",
   "execution_count": 25,
   "metadata": {},
   "outputs": [
    {
     "data": {
      "text/plain": [
       "[[0, 0, 0, 0, 0, 0, 0, 0],\n",
       " [0, 2, 0, 2, 1, 3, 2, 0],\n",
       " [0, 0, 2, 0, 2, 2, 2, 0],\n",
       " [0, 1, 0, 1, 3, 1, 1, 0],\n",
       " [0, 0, 0, 1, 1, 1, 0, 0],\n",
       " [0, 0, 1, 3, 4, 1, 0, 0],\n",
       " [0, 0, 1, 0, 0, 5, 2, 0],\n",
       " [0, 0, 0, 0, 0, 0, 0, 0]]"
      ]
     },
     "execution_count": 25,
     "metadata": {},
     "output_type": "execute_result"
    }
   ],
   "source": [
    "zero_padded"
   ]
  },
  {
   "cell_type": "markdown",
   "metadata": {},
   "source": [
    "Stride (1,1) filter"
   ]
  },
  {
   "cell_type": "code",
   "execution_count": 26,
   "metadata": {},
   "outputs": [],
   "source": [
    "filtered = []\n",
    "\n",
    "for i in range(6):\n",
    "    new_array = []\n",
    "    for j in range(6):\n",
    "        val = zero_padded[i][j] + zero_padded[i+1][j+1] + zero_padded[i+2][j+2]\n",
    "        new_array.append(val)\n",
    "    filtered.append(new_array)"
   ]
  },
  {
   "cell_type": "code",
   "execution_count": 27,
   "metadata": {},
   "outputs": [
    {
     "data": {
      "text/plain": [
       "[[4, 0, 4, 3, 5, 2],\n",
       " [0, 5, 3, 5, 4, 5],\n",
       " [1, 1, 4, 4, 3, 3],\n",
       " [1, 4, 5, 3, 4, 1],\n",
       " [1, 1, 3, 10, 4, 1],\n",
       " [0, 1, 1, 3, 9, 3]]"
      ]
     },
     "execution_count": 27,
     "metadata": {},
     "output_type": "execute_result"
    }
   ],
   "source": [
    "filtered"
   ]
  },
  {
   "cell_type": "markdown",
   "metadata": {},
   "source": [
    "Maxpooling (2,2)"
   ]
  },
  {
   "cell_type": "code",
   "execution_count": 28,
   "metadata": {},
   "outputs": [],
   "source": [
    "maxpooling = []\n",
    "\n",
    "for i in range(3):\n",
    "    new_array = []\n",
    "    for j in range(3):\n",
    "        val = max(filtered[2 * i][2 * j], filtered[2 * i + 1][2 * j],\n",
    "                 filtered[2 * i][2 * j + 1], filtered[2 * i + 1][2 * j + 1])\n",
    "        new_array.append(val)\n",
    "    maxpooling.append(new_array)"
   ]
  },
  {
   "cell_type": "code",
   "execution_count": 29,
   "metadata": {},
   "outputs": [
    {
     "data": {
      "text/plain": [
       "[[5, 5, 5], [4, 5, 4], [1, 10, 9]]"
      ]
     },
     "execution_count": 29,
     "metadata": {},
     "output_type": "execute_result"
    }
   ],
   "source": [
    "maxpooling"
   ]
  },
  {
   "cell_type": "markdown",
   "metadata": {},
   "source": [
    "이렇게 생겼습니당"
   ]
  },
  {
   "cell_type": "markdown",
   "metadata": {},
   "source": [
    "## Q2"
   ]
  },
  {
   "cell_type": "code",
   "execution_count": 39,
   "metadata": {},
   "outputs": [],
   "source": [
    "class CNN2(nn.Module):\n",
    "    def __init__(self):\n",
    "        super(CNN2, self).__init__()\n",
    "        self.keep_prob = 0.8\n",
    "        \n",
    "        self.layer1 = nn.Sequential(nn.Conv2d(1, 32, kernel_size =3, stride = 1, padding = 1),\n",
    "                                   nn.ReLU(),\n",
    "                                   nn.MaxPool2d(kernel_size = 2, stride = 2))\n",
    "        \n",
    "        self.layer2 = nn.Sequential(nn.Conv2d(32, 64, kernel_size = 3, stride = 1, padding = 1),\n",
    "                                    nn.ReLU(),\n",
    "                                    nn.MaxPool2d(kernel_size = 2, stride = 2))\n",
    "        \n",
    "        self.layer3 = nn.Sequential(nn.Conv2d(64, 128, kernel_size = 3, stride = 1, padding = 1),\n",
    "                                    nn.ReLU(),\n",
    "                                    nn.MaxPool2d(kernel_size = 2, stride = 2, padding = 1))\n",
    "        \n",
    "        self.fc1 = nn.Linear(4 * 4 * 128, 625, bias = True)\n",
    "        nn.init.xavier_uniform_(self.fc1.weight)\n",
    "        \n",
    "        self.layer4 = nn.Sequential(self.fc1,\n",
    "                                   nn.ReLU(),\n",
    "                                   nn.Dropout(p = 1 - self.keep_prob))\n",
    "        \n",
    "        self.fc2 = nn.Linear(625, 10, bias = True)\n",
    "        nn.init.xavier_uniform_(self.fc2.weight)\n",
    "        \n",
    "    def forward(self, x):\n",
    "        out = self.layer1(x)\n",
    "        out = self.layer2(out)\n",
    "        out = self.layer3(out)\n",
    "        out = out.view(out.size(0), -1) #Flatten them for FC\n",
    "        out = self.layer4(out)\n",
    "        out = self.fc2(out)\n",
    "        \n",
    "        return out"
   ]
  },
  {
   "cell_type": "code",
   "execution_count": 40,
   "metadata": {},
   "outputs": [],
   "source": [
    "def train(model):\n",
    "    # 모델 학습 및 loss check(Criterion의 output)\n",
    "    total_batch = len(data_loader)\n",
    "    print('Learning started. It takes sometime.')\n",
    "\n",
    "    for epoch in range(training_epochs):\n",
    "        avg_cost = 0\n",
    "\n",
    "        for X, Y in data_loader:\n",
    "            X = X.to(device)\n",
    "            Y = Y.to(device)\n",
    "\n",
    "            optimizer.zero_grad()\n",
    "            hypothesis = model(X)\n",
    "            cost = criterion(hypothesis, Y)\n",
    "            cost.backward()\n",
    "            optimizer.step()\n",
    "\n",
    "            avg_cost += cost / total_batch\n",
    "\n",
    "        print('[Epoch: {:>4}] cost {:>.9}'.format(epoch + 1, avg_cost))\n",
    "\n",
    "    print(\"Learning Finished!\")"
   ]
  },
  {
   "cell_type": "code",
   "execution_count": 41,
   "metadata": {},
   "outputs": [],
   "source": [
    "def test(model):\n",
    "    with torch.no_grad():\n",
    "        X_test = mnist_test.test_data.view(len(mnist_test), 1, 28, 28).float().to(device)\n",
    "        Y_test = mnist_test.test_labels.to(device)\n",
    "\n",
    "        prediction = model(X_test)\n",
    "        correct_prediction = torch.argmax(prediction, 1) == Y_test\n",
    "        accuracy = correct_prediction.float().mean()\n",
    "        print('Accuracy : ', accuracy.item())"
   ]
  },
  {
   "cell_type": "code",
   "execution_count": 42,
   "metadata": {},
   "outputs": [],
   "source": [
    "model2 = CNN2().to(device)"
   ]
  },
  {
   "cell_type": "code",
   "execution_count": 44,
   "metadata": {},
   "outputs": [],
   "source": [
    "criterion = nn.CrossEntropyLoss().to(device) # Softmax is internally computed\n",
    "optimizer = torch.optim.Adam(model2.parameters(), lr = learning_rate)"
   ]
  },
  {
   "cell_type": "code",
   "execution_count": 45,
   "metadata": {},
   "outputs": [
    {
     "name": "stdout",
     "output_type": "stream",
     "text": [
      "Learning started. It takes sometime.\n",
      "[Epoch:    1] cost 0.173473179\n",
      "[Epoch:    2] cost 0.0432489552\n",
      "[Epoch:    3] cost 0.0294852089\n",
      "[Epoch:    4] cost 0.0255112536\n",
      "[Epoch:    5] cost 0.0191292204\n",
      "[Epoch:    6] cost 0.0153724179\n",
      "[Epoch:    7] cost 0.0117597282\n",
      "[Epoch:    8] cost 0.011674555\n",
      "[Epoch:    9] cost 0.0108470572\n",
      "[Epoch:   10] cost 0.00967290346\n",
      "[Epoch:   11] cost 0.00749675836\n",
      "[Epoch:   12] cost 0.00723878806\n",
      "[Epoch:   13] cost 0.00696195802\n",
      "[Epoch:   14] cost 0.00571974646\n",
      "[Epoch:   15] cost 0.00615150062\n",
      "Learning Finished!\n"
     ]
    }
   ],
   "source": [
    "train(model2)"
   ]
  },
  {
   "cell_type": "code",
   "execution_count": 46,
   "metadata": {},
   "outputs": [
    {
     "name": "stdout",
     "output_type": "stream",
     "text": [
      "Accuracy :  0.9850999712944031\n"
     ]
    }
   ],
   "source": [
    "test(model2)"
   ]
  },
  {
   "cell_type": "code",
   "execution_count": 53,
   "metadata": {},
   "outputs": [],
   "source": [
    "class CNN3(nn.Module):\n",
    "    def __init__(self):\n",
    "        super(CNN3, self).__init__()\n",
    "        self.keep_prob = 0.8\n",
    "        \n",
    "        self.layer1 = nn.Sequential(nn.Conv2d(1, 32, kernel_size =4, stride = 1, padding = 1),\n",
    "                                   nn.ReLU(),\n",
    "                                   nn.MaxPool2d(kernel_size = 2, stride = 2))\n",
    "        \n",
    "        self.layer2 = nn.Sequential(nn.Conv2d(32, 64, kernel_size = 3, stride = 1, padding = 1),\n",
    "                                    nn.ReLU(),\n",
    "                                    nn.MaxPool2d(kernel_size = 2, stride = 2))\n",
    "        \n",
    "        self.layer3 = nn.Sequential(nn.Conv2d(64, 128, kernel_size = 3, stride = 2, padding = 1),\n",
    "                                    nn.ReLU(),\n",
    "                                    nn.MaxPool2d(kernel_size = 2, stride = 2, padding = 1))\n",
    "        \n",
    "        self.fc1 = nn.Linear(2 * 2 * 128, 625, bias = True)\n",
    "        nn.init.xavier_uniform_(self.fc1.weight)\n",
    "        \n",
    "        self.layer4 = nn.Sequential(self.fc1,\n",
    "                                   nn.ReLU(),\n",
    "                                   nn.Dropout(p = 1 - self.keep_prob))\n",
    "        \n",
    "        self.fc2 = nn.Linear(625, 10, bias = True)\n",
    "        nn.init.xavier_uniform_(self.fc2.weight)\n",
    "        \n",
    "    def forward(self, x):\n",
    "        out = self.layer1(x)\n",
    "        out = self.layer2(out)\n",
    "        out = self.layer3(out)\n",
    "        out = out.view(out.size(0), -1) #Flatten them for FC\n",
    "        out = self.layer4(out)\n",
    "        out = self.fc2(out)\n",
    "        \n",
    "        return out"
   ]
  },
  {
   "cell_type": "code",
   "execution_count": 54,
   "metadata": {},
   "outputs": [],
   "source": [
    "model3 = CNN3().to(device)\n",
    "criterion = nn.CrossEntropyLoss().to(device) # Softmax is internally computed\n",
    "optimizer = torch.optim.Adam(model3.parameters(), lr = learning_rate)"
   ]
  },
  {
   "cell_type": "code",
   "execution_count": 55,
   "metadata": {},
   "outputs": [
    {
     "name": "stdout",
     "output_type": "stream",
     "text": [
      "Learning started. It takes sometime.\n",
      "[Epoch:    1] cost 0.222253785\n",
      "[Epoch:    2] cost 0.0570721962\n",
      "[Epoch:    3] cost 0.0388892405\n",
      "[Epoch:    4] cost 0.0316711552\n",
      "[Epoch:    5] cost 0.0248664636\n",
      "[Epoch:    6] cost 0.0201338008\n",
      "[Epoch:    7] cost 0.0182972196\n",
      "[Epoch:    8] cost 0.0135526862\n",
      "[Epoch:    9] cost 0.0137856705\n",
      "[Epoch:   10] cost 0.0110776527\n",
      "[Epoch:   11] cost 0.0112223439\n",
      "[Epoch:   12] cost 0.0102123776\n",
      "[Epoch:   13] cost 0.00889295526\n",
      "[Epoch:   14] cost 0.00852344465\n",
      "[Epoch:   15] cost 0.00648356695\n",
      "Learning Finished!\n"
     ]
    }
   ],
   "source": [
    "train(model3)"
   ]
  },
  {
   "cell_type": "code",
   "execution_count": 56,
   "metadata": {},
   "outputs": [
    {
     "name": "stdout",
     "output_type": "stream",
     "text": [
      "Accuracy :  0.987500011920929\n"
     ]
    }
   ],
   "source": [
    "test(model3)"
   ]
  },
  {
   "cell_type": "markdown",
   "metadata": {},
   "source": [
    "- Layer3 이후 크기 : \"After Layer3 Shape :  torch.Size([100, 128, 2, 2])\"\n",
    "- cost는 조금 더 증가했고, accuracy도 조금 더 증가했다"
   ]
  },
  {
   "cell_type": "code",
   "execution_count": null,
   "metadata": {},
   "outputs": [],
   "source": []
  }
 ],
 "metadata": {
  "kernelspec": {
   "display_name": "Python 3",
   "language": "python",
   "name": "python3"
  },
  "language_info": {
   "codemirror_mode": {
    "name": "ipython",
    "version": 3
   },
   "file_extension": ".py",
   "mimetype": "text/x-python",
   "name": "python",
   "nbconvert_exporter": "python",
   "pygments_lexer": "ipython3",
   "version": "3.7.6"
  }
 },
 "nbformat": 4,
 "nbformat_minor": 4
}
