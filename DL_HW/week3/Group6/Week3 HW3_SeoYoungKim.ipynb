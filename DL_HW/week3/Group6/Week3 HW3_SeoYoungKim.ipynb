{
 "cells": [
  {
   "cell_type": "markdown",
   "metadata": {},
   "source": [
    "# 숙제 1번"
   ]
  },
  {
   "cell_type": "code",
   "execution_count": 1,
   "metadata": {},
   "outputs": [],
   "source": [
    "import numpy as np"
   ]
  },
  {
   "cell_type": "code",
   "execution_count": 12,
   "metadata": {},
   "outputs": [
    {
     "data": {
      "text/plain": [
       "array([[0, 0, 0, 0, 0, 0, 0, 0],\n",
       "       [0, 2, 0, 2, 1, 3, 2, 0],\n",
       "       [0, 0, 2, 0, 2, 2, 2, 0],\n",
       "       [0, 1, 0, 1, 3, 1, 1, 0],\n",
       "       [0, 0, 0, 1, 1, 1, 0, 0],\n",
       "       [0, 0, 1, 3, 4, 1, 0, 0],\n",
       "       [0, 0, 1, 0, 0, 5, 2, 0],\n",
       "       [0, 0, 0, 0, 0, 0, 0, 0]])"
      ]
     },
     "execution_count": 12,
     "metadata": {},
     "output_type": "execute_result"
    }
   ],
   "source": [
    "# zero padding을 크기 1만큼 적용 \n",
    "a=np.array([[0, 0, 0, 0, 0, 0, 0, 0],\n",
    "            [0, 2, 0, 2, 1, 3, 2, 0],\n",
    "            [0, 0, 2, 0, 2, 2, 2, 0],\n",
    "            [0, 1, 0, 1, 3, 1, 1, 0],\n",
    "            [0, 0, 0, 1, 1, 1, 0, 0],\n",
    "            [0, 0, 1, 3, 4, 1, 0, 0],\n",
    "            [0, 0, 1, 0, 0, 5, 2, 0],\n",
    "            [0, 0, 0, 0, 0, 0, 0, 0]])\n",
    "a"
   ]
  },
  {
   "cell_type": "code",
   "execution_count": 36,
   "metadata": {},
   "outputs": [
    {
     "data": {
      "text/plain": [
       "array([[1, 0, 0],\n",
       "       [0, 1, 0],\n",
       "       [0, 0, 1]])"
      ]
     },
     "execution_count": 36,
     "metadata": {},
     "output_type": "execute_result"
    }
   ],
   "source": [
    "A = np.array([[1, 0, 0],\n",
    "               [0, 1, 0],\n",
    "               [0, 0, 1]])\n",
    "A"
   ]
  },
  {
   "cell_type": "code",
   "execution_count": 102,
   "metadata": {},
   "outputs": [
    {
     "data": {
      "text/plain": [
       "array([[4128860, 6029375, 3801155, 5570652, 6619251, 7536754],\n",
       "       [7536732, 7143521, 7667827, 6750318, 3014748, 7340137],\n",
       "       [7602297, 7274600, 6029422, 7471216, 6684783, 7077993],\n",
       "       [6226021, 6619236, 6357094, 7078005, 6029428, 6881384],\n",
       "       [7602291, 7471215, 3014777, 7405683, 6881388, 6619252],\n",
       "       [6946861, 7667823, 7209074, 7077985, 3014656, 7929968]])"
      ]
     },
     "execution_count": 102,
     "metadata": {},
     "output_type": "execute_result"
    }
   ],
   "source": [
    "r = [0,1,2,3,4,5]\n",
    "k = np.empty((6 ,6), int)\n",
    "k"
   ]
  },
  {
   "cell_type": "code",
   "execution_count": 103,
   "metadata": {},
   "outputs": [],
   "source": [
    "for j in r:\n",
    "    for i in r:\n",
    "        kk= a[j:j+3,i:i+3] * A\n",
    "        k[j,i]= sum(sum(kk))"
   ]
  },
  {
   "cell_type": "code",
   "execution_count": 104,
   "metadata": {
    "scrolled": true
   },
   "outputs": [
    {
     "data": {
      "text/plain": [
       "array([[ 4,  0,  4,  3,  5,  2],\n",
       "       [ 0,  5,  3,  5,  4,  5],\n",
       "       [ 1,  1,  4,  4,  3,  3],\n",
       "       [ 1,  4,  5,  3,  4,  1],\n",
       "       [ 1,  1,  3, 10,  4,  1],\n",
       "       [ 0,  1,  1,  3,  9,  3]])"
      ]
     },
     "execution_count": 104,
     "metadata": {},
     "output_type": "execute_result"
    }
   ],
   "source": [
    "# stride (1,1)로 filter A 적용 \n",
    "k"
   ]
  },
  {
   "cell_type": "code",
   "execution_count": 98,
   "metadata": {},
   "outputs": [],
   "source": [
    "k1 = np.empty((3,3), int)\n",
    "rr = [0, 1, 2]"
   ]
  },
  {
   "cell_type": "code",
   "execution_count": 100,
   "metadata": {},
   "outputs": [],
   "source": [
    "    for j in rr:\n",
    "        for i in rr:\n",
    "            k1[j, i] = np.max(k[j*2:j*2+2, i*2:i*2+2])\n",
    "            "
   ]
  },
  {
   "cell_type": "code",
   "execution_count": 101,
   "metadata": {},
   "outputs": [
    {
     "data": {
      "text/plain": [
       "array([[ 5,  5,  5],\n",
       "       [ 4,  5,  4],\n",
       "       [ 1, 10,  9]])"
      ]
     },
     "execution_count": 101,
     "metadata": {},
     "output_type": "execute_result"
    }
   ],
   "source": [
    "# stride(2,2)로 maxpooling 적용 \n",
    "k1"
   ]
  },
  {
   "cell_type": "markdown",
   "metadata": {},
   "source": [
    "# 숙제 2번"
   ]
  },
  {
   "cell_type": "code",
   "execution_count": 115,
   "metadata": {},
   "outputs": [],
   "source": [
    "import torch \n",
    "import torch.nn as nn\n",
    "import torchvision.datasets as dsets\n",
    "import torchvision.transforms as transforms\n",
    "\n",
    "import torch.nn.init"
   ]
  },
  {
   "cell_type": "code",
   "execution_count": 116,
   "metadata": {},
   "outputs": [],
   "source": [
    "device = 'cuda' if torch.cuda.is_available() else 'cpu'\n",
    "\n",
    "torch.manual_seed(777)\n",
    "if device == 'cuda' :\n",
    "    torch.cuda.manual_seed_all(777)"
   ]
  },
  {
   "cell_type": "code",
   "execution_count": 126,
   "metadata": {},
   "outputs": [],
   "source": [
    "# Parameters\n",
    "learning_rate=0.001\n",
    "training_epochs=10\n",
    "batch_size=100"
   ]
  },
  {
   "cell_type": "code",
   "execution_count": 131,
   "metadata": {},
   "outputs": [
    {
     "name": "stdout",
     "output_type": "stream",
     "text": [
      "Downloading http://yann.lecun.com/exdb/mnist/train-images-idx3-ubyte.gz to MNIST_data/MNIST\\raw\\train-images-idx3-ubyte.gz\n"
     ]
    },
    {
     "data": {
      "application/vnd.jupyter.widget-view+json": {
       "model_id": "df6910d8f50e4d4e9d8861cf6e7aeed3",
       "version_major": 2,
       "version_minor": 0
      },
      "text/plain": [
       "HBox(children=(FloatProgress(value=1.0, bar_style='info', max=1.0), HTML(value='')))"
      ]
     },
     "metadata": {},
     "output_type": "display_data"
    },
    {
     "name": "stdout",
     "output_type": "stream",
     "text": [
      "Extracting MNIST_data/MNIST\\raw\\train-images-idx3-ubyte.gz to MNIST_data/MNIST\\raw\n",
      "Downloading http://yann.lecun.com/exdb/mnist/train-labels-idx1-ubyte.gz to MNIST_data/MNIST\\raw\\train-labels-idx1-ubyte.gz\n"
     ]
    },
    {
     "data": {
      "application/vnd.jupyter.widget-view+json": {
       "model_id": "6423afed1c2842e59ba40a8a490de109",
       "version_major": 2,
       "version_minor": 0
      },
      "text/plain": [
       "HBox(children=(FloatProgress(value=1.0, bar_style='info', max=1.0), HTML(value='')))"
      ]
     },
     "metadata": {},
     "output_type": "display_data"
    },
    {
     "name": "stdout",
     "output_type": "stream",
     "text": [
      "Extracting MNIST_data/MNIST\\raw\\train-labels-idx1-ubyte.gz to MNIST_data/MNIST\\raw\n",
      "Downloading http://yann.lecun.com/exdb/mnist/t10k-images-idx3-ubyte.gz to MNIST_data/MNIST\\raw\\t10k-images-idx3-ubyte.gz\n",
      "\n"
     ]
    },
    {
     "data": {
      "application/vnd.jupyter.widget-view+json": {
       "model_id": "b10126a6d55e42938a8c9d7556ddf415",
       "version_major": 2,
       "version_minor": 0
      },
      "text/plain": [
       "HBox(children=(FloatProgress(value=1.0, bar_style='info', max=1.0), HTML(value='')))"
      ]
     },
     "metadata": {},
     "output_type": "display_data"
    },
    {
     "name": "stdout",
     "output_type": "stream",
     "text": [
      "Extracting MNIST_data/MNIST\\raw\\t10k-images-idx3-ubyte.gz to MNIST_data/MNIST\\raw\n",
      "Downloading http://yann.lecun.com/exdb/mnist/t10k-labels-idx1-ubyte.gz to MNIST_data/MNIST\\raw\\t10k-labels-idx1-ubyte.gz\n"
     ]
    },
    {
     "data": {
      "application/vnd.jupyter.widget-view+json": {
       "model_id": "b59fe66597b8427da18b94f6132bacf6",
       "version_major": 2,
       "version_minor": 0
      },
      "text/plain": [
       "HBox(children=(FloatProgress(value=1.0, bar_style='info', max=1.0), HTML(value='')))"
      ]
     },
     "metadata": {},
     "output_type": "display_data"
    },
    {
     "name": "stdout",
     "output_type": "stream",
     "text": [
      "Extracting MNIST_data/MNIST\\raw\\t10k-labels-idx1-ubyte.gz to MNIST_data/MNIST\\raw\n",
      "Processing...\n"
     ]
    },
    {
     "name": "stderr",
     "output_type": "stream",
     "text": [
      "..\\torch\\csrc\\utils\\tensor_numpy.cpp:141: UserWarning: The given NumPy array is not writeable, and PyTorch does not support non-writeable tensors. This means you can write to the underlying (supposedly non-writeable) NumPy array using the tensor. You may want to copy the array to protect its data or make it writeable before converting it to a tensor. This type of warning will be suppressed for the rest of this program.\n"
     ]
    },
    {
     "name": "stdout",
     "output_type": "stream",
     "text": [
      "Done!\n"
     ]
    }
   ],
   "source": [
    "# MNIST dataset\n",
    "\n",
    "mnist_train = dsets.MNIST(root=\"MNIST_data/\",\n",
    "                         train=True,\n",
    "                         transform=transforms.ToTensor(),\n",
    "                         download=True)\n",
    "\n",
    "mnist_test = dsets.MNIST(root=\"MNIST_data/\",\n",
    "                        train=False,\n",
    "                        transform=transforms.ToTensor(),\n",
    "                        download=True)"
   ]
  },
  {
   "cell_type": "code",
   "execution_count": 203,
   "metadata": {},
   "outputs": [],
   "source": [
    "# Data Loader\n",
    "data_loader = torch.utils.data.DataLoader(dataset=mnist_train,\n",
    "                                         batch_size=batch_size,\n",
    "                                         shuffle=True,\n",
    "                                         drop_last=True)"
   ]
  },
  {
   "cell_type": "markdown",
   "metadata": {},
   "source": [
    "우선, Layer1의 Kernel_size는 4로, Layer3의 stride는 2로 조정하고<br>\n",
    "그 결과 달라지는 Layer3 의 output size계산 <br>\n",
    "$Output\\; size = \\frac{input \\;size-filter \\;size+(2*padding)}{Stride}+1$"
   ]
  },
  {
   "cell_type": "code",
   "execution_count": 201,
   "metadata": {},
   "outputs": [],
   "source": [
    "layer1 = nn.Sequential(\n",
    "            nn.Conv2d(1,32,kernel_size=4, stride=1, padding=1),\n",
    "            nn.ReLU(),\n",
    "            nn.MaxPool2d(kernel_size=2, stride=2)\n",
    "        )\n",
    "\n",
    "layer2 = nn.Sequential(\n",
    "            nn.Conv2d(32,64,kernel_size=3, stride=1, padding=1),\n",
    "            nn.ReLU(),\n",
    "            nn.MaxPool2d(kernel_size=2, stride=2)\n",
    "        )\n",
    "\n",
    "layer3 = nn.Sequential(\n",
    "            nn.Conv2d(64,128,kernel_size=3, stride=2, padding=1),\n",
    "            nn.ReLU(),\n",
    "            nn.MaxPool2d(kernel_size=2, stride=2, padding=1)\n",
    "        )        "
   ]
  },
  {
   "cell_type": "code",
   "execution_count": 202,
   "metadata": {},
   "outputs": [
    {
     "data": {
      "text/plain": [
       "torch.Size([100, 128, 2, 2])"
      ]
     },
     "execution_count": 202,
     "metadata": {},
     "output_type": "execute_result"
    }
   ],
   "source": [
    "out = layer1(X) \n",
    "out = layer2(out)\n",
    "out = layer3(out)\n",
    "out.shape"
   ]
  },
  {
   "cell_type": "code",
   "execution_count": 210,
   "metadata": {},
   "outputs": [],
   "source": [
    "# Model2\n",
    "\n",
    "class CNN(nn.Module):\n",
    "    \n",
    "    def __init__(self):\n",
    "        super(CNN, self).__init__()\n",
    "        self.keep_prob = 0.5\n",
    "        \n",
    "        self.layer1 = nn.Sequential(\n",
    "            nn.Conv2d(1,32,kernel_size=4, stride=1, padding=1),\n",
    "            nn.ReLU(),\n",
    "            nn.MaxPool2d(kernel_size=2, stride=2)\n",
    "        )\n",
    "        \n",
    "        self.layer2 = nn.Sequential(\n",
    "            nn.Conv2d(32,64,kernel_size=3, stride=1, padding=1),\n",
    "            nn.ReLU(),\n",
    "            nn.MaxPool2d(kernel_size=2, stride=2)\n",
    "        )\n",
    "        \n",
    "        self.layer3 = nn.Sequential(\n",
    "            nn.Conv2d(64,128,kernel_size=3, stride=2, padding=1),\n",
    "            nn.ReLU(),\n",
    "            nn.MaxPool2d(kernel_size=2, stride=2, padding=1)\n",
    "        )        \n",
    "      \n",
    "\n",
    "        self.fc1 = nn.Linear(2*2*128, 625, bias=True)\n",
    "        torch.nn.init.xavier_uniform_(self.fc1.weight) \n",
    "        self.layer4 = nn.Sequential(\n",
    "            self.fc1,\n",
    "            nn.ReLU(),\n",
    "            nn.Dropout(p=1-self.keep_prob))\n",
    "        \n",
    "        \n",
    "        self.fc2 = nn.Linear(625, 10, bias=True)\n",
    "        torch.nn.init.xavier_uniform_(self.fc2.weight) \n",
    "        \n",
    "    \n",
    "    def forward(self, x):\n",
    "        out = self.layer1(x) \n",
    "        out = self.layer2(out)\n",
    "        out = self.layer3(out)\n",
    "        out = out.view(out.size(0), -1) # fc돌리기 전에 view로 펼치기 \n",
    "        out = self.layer4(out)\n",
    "        out = self.fc2(out)\n",
    "        return out"
   ]
  },
  {
   "cell_type": "code",
   "execution_count": 211,
   "metadata": {},
   "outputs": [],
   "source": [
    "model = CNN().to(device)  # device는 cuda, cpu 중에서 사용가능한거 쓰겟다 옵션 "
   ]
  },
  {
   "cell_type": "code",
   "execution_count": 212,
   "metadata": {},
   "outputs": [],
   "source": [
    "criterion = nn.CrossEntropyLoss().to(device)\n",
    "optimizer = torch.optim.Adam(model.parameters(), lr=learning_rate)"
   ]
  },
  {
   "cell_type": "code",
   "execution_count": 214,
   "metadata": {},
   "outputs": [
    {
     "name": "stdout",
     "output_type": "stream",
     "text": [
      "600\n",
      "[Epoch:1] cost = 0.10703402012586594\n",
      "[Epoch:2] cost = 0.056733112782239914\n",
      "[Epoch:3] cost = 0.04211655631661415\n",
      "[Epoch:4] cost = 0.03434012085199356\n",
      "[Epoch:5] cost = 0.025526992976665497\n",
      "[Epoch:6] cost = 0.023407865315675735\n",
      "[Epoch:7] cost = 0.019292963668704033\n",
      "[Epoch:8] cost = 0.01732758618891239\n",
      "[Epoch:9] cost = 0.01442783698439598\n",
      "[Epoch:10] cost = 0.014809113927185535\n",
      "Learning Finished!\n"
     ]
    }
   ],
   "source": [
    "# Training \n",
    "total_batch = len(data_loader)\n",
    "print(total_batch)\n",
    "\n",
    "for epoch in range(training_epochs):\n",
    "    avg_cost = 0\n",
    "    \n",
    "    for X,Y in data_loader : \n",
    "        X=X.to(device) # 이미지 (input)\n",
    "        Y=Y.to(device) # 라벨\n",
    "        \n",
    "        optimizer.zero_grad() ## 중요중요 ##\n",
    "        hypothesis = model(X) # model에 X input 대입한 결과 (가설)\n",
    "        \n",
    "        cost = criterion(hypothesis, Y) # 그 가설과 실제 라벨 사이의 차이 계산(Loss)\n",
    "        cost.backward()\n",
    "        optimizer.step() # 모델 학습 \n",
    "        \n",
    "        avg_cost += cost / total_batch # cost 쌓기 \n",
    "        \n",
    "    print('[Epoch:{}] cost = {}'.format(epoch+1, avg_cost))\n",
    "    \n",
    "print('Learning Finished!')"
   ]
  },
  {
   "cell_type": "code",
   "execution_count": 215,
   "metadata": {
    "scrolled": true
   },
   "outputs": [
    {
     "name": "stdout",
     "output_type": "stream",
     "text": [
      "Accurary: 0.9776999950408936\n"
     ]
    }
   ],
   "source": [
    "with torch.no_grad(): # test는 학습을 안할꺼니까 no gradient\n",
    "    X_test = mnist_test.test_data.view(len(mnist_test), 1, 28, 28).float().to(device)\n",
    "    Y_test = mnist_test.test_labels.to(device)\n",
    "    \n",
    "    prediction = model(X_test)\n",
    "    correct_prediction = torch.argmax(prediction,1) == Y_test\n",
    "    accuracy = correct_prediction.float().mean()\n",
    "    print('Accurary:', accuracy.item())"
   ]
  },
  {
   "cell_type": "markdown",
   "metadata": {},
   "source": [
    "# 기존 CNN모델 "
   ]
  },
  {
   "cell_type": "code",
   "execution_count": 216,
   "metadata": {},
   "outputs": [],
   "source": [
    "# Model2\n",
    "\n",
    "class CNN(nn.Module):\n",
    "    \n",
    "    def __init__(self):\n",
    "        super(CNN, self).__init__()\n",
    "        self.keep_prob = 0.5\n",
    "        \n",
    "        self.layer1 = nn.Sequential(\n",
    "            nn.Conv2d(1,32,kernel_size=3, stride=1, padding=1),\n",
    "            nn.ReLU(),\n",
    "            nn.MaxPool2d(kernel_size=2, stride=2)\n",
    "        )\n",
    "        \n",
    "        self.layer2 = nn.Sequential(\n",
    "            nn.Conv2d(32,64,kernel_size=3, stride=1, padding=1),\n",
    "            nn.ReLU(),\n",
    "            nn.MaxPool2d(kernel_size=2, stride=2)\n",
    "        )\n",
    "        \n",
    "        self.layer3 = nn.Sequential(\n",
    "            nn.Conv2d(64,128,kernel_size=3, stride=1, padding=1),\n",
    "            nn.ReLU(),\n",
    "            nn.MaxPool2d(kernel_size=2, stride=2, padding=1)\n",
    "        )        \n",
    "      \n",
    "\n",
    "        self.fc1 = nn.Linear(4*4*128, 625, bias=True)\n",
    "        torch.nn.init.xavier_uniform_(self.fc1.weight) \n",
    "        self.layer4 = nn.Sequential(\n",
    "            self.fc1,\n",
    "            nn.ReLU(),\n",
    "            nn.Dropout(p=1-self.keep_prob))\n",
    "        \n",
    "        \n",
    "        self.fc2 = nn.Linear(625, 10, bias=True)\n",
    "        torch.nn.init.xavier_uniform_(self.fc2.weight) \n",
    "        \n",
    "    \n",
    "    def forward(self, x):\n",
    "        out = self.layer1(x) \n",
    "        out = self.layer2(out)\n",
    "        out = self.layer3(out)\n",
    "        out = out.view(out.size(0), -1) # fc돌리기 전에 view로 펼치기 \n",
    "        out = self.layer4(out)\n",
    "        out = self.fc2(out)\n",
    "        return out"
   ]
  },
  {
   "cell_type": "code",
   "execution_count": 217,
   "metadata": {},
   "outputs": [],
   "source": [
    "model = CNN().to(device)"
   ]
  },
  {
   "cell_type": "code",
   "execution_count": 218,
   "metadata": {},
   "outputs": [],
   "source": [
    "criterion = nn.CrossEntropyLoss().to(device)\n",
    "optimizer = torch.optim.Adam(model.parameters(), lr=learning_rate)"
   ]
  },
  {
   "cell_type": "code",
   "execution_count": 219,
   "metadata": {},
   "outputs": [
    {
     "name": "stdout",
     "output_type": "stream",
     "text": [
      "600\n",
      "[Epoch:1] cost = 0.18747356534004211\n",
      "[Epoch:2] cost = 0.054013680666685104\n",
      "[Epoch:3] cost = 0.03851877152919769\n",
      "[Epoch:4] cost = 0.02870580367743969\n",
      "[Epoch:5] cost = 0.02470463141798973\n",
      "[Epoch:6] cost = 0.020793743431568146\n",
      "[Epoch:7] cost = 0.01785752736032009\n",
      "[Epoch:8] cost = 0.01366757694631815\n",
      "[Epoch:9] cost = 0.011903111822903156\n",
      "[Epoch:10] cost = 0.012358635663986206\n",
      "Learning Finished!\n"
     ]
    }
   ],
   "source": [
    "# Training \n",
    "total_batch = len(data_loader)\n",
    "print(total_batch)\n",
    "\n",
    "for epoch in range(training_epochs):\n",
    "    avg_cost = 0\n",
    "    \n",
    "    for X,Y in data_loader : \n",
    "        X=X.to(device) # 이미지 (input)\n",
    "        Y=Y.to(device) # 라벨\n",
    "        \n",
    "        optimizer.zero_grad() ## 중요중요 ##\n",
    "        hypothesis = model(X) # model에 X input 대입한 결과 (가설)\n",
    "        \n",
    "        cost = criterion(hypothesis, Y) # 그 가설과 실제 라벨 사이의 차이 계산(Loss)\n",
    "        cost.backward()\n",
    "        optimizer.step() # 모델 학습 \n",
    "        \n",
    "        avg_cost += cost / total_batch # cost 쌓기 \n",
    "        \n",
    "    print('[Epoch:{}] cost = {}'.format(epoch+1, avg_cost))\n",
    "    \n",
    "print('Learning Finished!')"
   ]
  },
  {
   "cell_type": "code",
   "execution_count": 220,
   "metadata": {},
   "outputs": [
    {
     "name": "stdout",
     "output_type": "stream",
     "text": [
      "Accurary: 0.9905999898910522\n"
     ]
    }
   ],
   "source": [
    "with torch.no_grad(): # test는 학습을 안할꺼니까 no gradient\n",
    "    X_test = mnist_test.test_data.view(len(mnist_test), 1, 28, 28).float().to(device)\n",
    "    Y_test = mnist_test.test_labels.to(device)\n",
    "    \n",
    "    prediction = model(X_test)\n",
    "    correct_prediction = torch.argmax(prediction,1) == Y_test\n",
    "    accuracy = correct_prediction.float().mean()\n",
    "    print('Accurary:', accuracy.item())"
   ]
  }
 ],
 "metadata": {
  "kernelspec": {
   "display_name": "Python 3",
   "language": "python",
   "name": "python3"
  },
  "language_info": {
   "codemirror_mode": {
    "name": "ipython",
    "version": 3
   },
   "file_extension": ".py",
   "mimetype": "text/x-python",
   "name": "python",
   "nbconvert_exporter": "python",
   "pygments_lexer": "ipython3",
   "version": "3.7.6"
  },
  "toc": {
   "base_numbering": 1,
   "nav_menu": {},
   "number_sections": false,
   "sideBar": true,
   "skip_h1_title": false,
   "title_cell": "Table of Contents",
   "title_sidebar": "Contents",
   "toc_cell": false,
   "toc_position": {
    "height": "calc(100% - 180px)",
    "left": "10px",
    "top": "150px",
    "width": "165px"
   },
   "toc_section_display": true,
   "toc_window_display": false
  },
  "varInspector": {
   "cols": {
    "lenName": 16,
    "lenType": 16,
    "lenVar": 40
   },
   "kernels_config": {
    "python": {
     "delete_cmd_postfix": "",
     "delete_cmd_prefix": "del ",
     "library": "var_list.py",
     "varRefreshCmd": "print(var_dic_list())"
    },
    "r": {
     "delete_cmd_postfix": ") ",
     "delete_cmd_prefix": "rm(",
     "library": "var_list.r",
     "varRefreshCmd": "cat(var_dic_list()) "
    }
   },
   "types_to_exclude": [
    "module",
    "function",
    "builtin_function_or_method",
    "instance",
    "_Feature"
   ],
   "window_display": false
  }
 },
 "nbformat": 4,
 "nbformat_minor": 4
}
