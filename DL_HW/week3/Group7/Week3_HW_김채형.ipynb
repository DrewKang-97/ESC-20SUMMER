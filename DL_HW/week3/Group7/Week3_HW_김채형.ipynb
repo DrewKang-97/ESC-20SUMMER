{
 "cells": [
  {
   "cell_type": "markdown",
   "metadata": {},
   "source": [
    "# 2020 SUMMER ESC :: Week 3 세션 과제"
   ]
  },
  {
   "cell_type": "markdown",
   "metadata": {},
   "source": [
    "2020.08.09 김채형"
   ]
  },
  {
   "cell_type": "markdown",
   "metadata": {},
   "source": [
    "### 과제 1번\n",
    "\n",
    "1. 이미지 파일에 zero padding을 크기 1만큼 적용한 뒤 (즉 위 아래 양옆으로 0을 한겹만)\n",
    "2. stride를 (1,1)로 filter A를 적용하고\n",
    "3. stride (2,2)로 2\\*2 maxpooling을 적용했을 때의 이미지 파일은 어떻게 생겼는지 예측해주세요!"
   ]
  },
  {
   "cell_type": "code",
   "execution_count": 20,
   "metadata": {},
   "outputs": [
    {
     "data": {
      "text/plain": [
       "[[2, 0, 2, 1, 3, 2],\n",
       " [0, 2, 0, 2, 2, 2],\n",
       " [1, 0, 1, 3, 1, 1],\n",
       " [0, 0, 1, 1, 1, 0],\n",
       " [0, 1, 3, 4, 1, 0],\n",
       " [0, 1, 0, 0, 5, 2]]"
      ]
     },
     "execution_count": 20,
     "metadata": {},
     "output_type": "execute_result"
    }
   ],
   "source": [
    "mat = [[2,0,2,1,3,2],\n",
    "       [0,2,0,2,2,2],\n",
    "       [1,0,1,3,1,1],\n",
    "       [0,0,1,1,1,0],\n",
    "       [0,1,3,4,1,0],\n",
    "       [0,1,0,0,5,2]]\n",
    "mat"
   ]
  },
  {
   "cell_type": "code",
   "execution_count": 21,
   "metadata": {},
   "outputs": [
    {
     "data": {
      "text/plain": [
       "[[1, 0, 0], [0, 1, 0], [0, 0, 1]]"
      ]
     },
     "execution_count": 21,
     "metadata": {},
     "output_type": "execute_result"
    }
   ],
   "source": [
    "fil = [[1,0,0],\n",
    "       [0,1,0],\n",
    "       [0,0,1]]\n",
    "fil"
   ]
  },
  {
   "cell_type": "code",
   "execution_count": 22,
   "metadata": {},
   "outputs": [],
   "source": [
    "# zero padding 크기 1만큼 적용\n",
    "mat_padded = []\n",
    "padded_len = len(mat)+2\n",
    "\n",
    "for i in range(padded_len):\n",
    "    mat_padded.append([0]*padded_len)\n",
    "    #print(mat_padded)\n",
    "    if i!=0 and i!=padded_len-1:\n",
    "        mat_padded[i][1:-1] = mat[i-1]\n",
    "        #print(mat_padded, '\\n')"
   ]
  },
  {
   "cell_type": "code",
   "execution_count": 23,
   "metadata": {},
   "outputs": [
    {
     "data": {
      "text/plain": [
       "[[0, 0, 0, 0, 0, 0, 0, 0],\n",
       " [0, 2, 0, 2, 1, 3, 2, 0],\n",
       " [0, 0, 2, 0, 2, 2, 2, 0],\n",
       " [0, 1, 0, 1, 3, 1, 1, 0],\n",
       " [0, 0, 0, 1, 1, 1, 0, 0],\n",
       " [0, 0, 1, 3, 4, 1, 0, 0],\n",
       " [0, 0, 1, 0, 0, 5, 2, 0],\n",
       " [0, 0, 0, 0, 0, 0, 0, 0]]"
      ]
     },
     "execution_count": 23,
     "metadata": {},
     "output_type": "execute_result"
    }
   ],
   "source": [
    "# zero padding 적용 후 이미지\n",
    "mat_padded"
   ]
  },
  {
   "cell_type": "code",
   "execution_count": 24,
   "metadata": {},
   "outputs": [],
   "source": [
    "# filter A를 stride를 (1,1)로 적용\n",
    "mat_filtered = []\n",
    "for i in range(len(mat)):\n",
    "    ls = []\n",
    "    for j in range(len(mat)):\n",
    "        val = mat_padded[i][j] + mat_padded[i+1][j+1] + mat_padded[i+2][j+2]\n",
    "        ls.append(val)\n",
    "    mat_filtered.append(ls)"
   ]
  },
  {
   "cell_type": "code",
   "execution_count": 25,
   "metadata": {},
   "outputs": [
    {
     "data": {
      "text/plain": [
       "[[4, 0, 4, 3, 5, 2],\n",
       " [0, 5, 3, 5, 4, 5],\n",
       " [1, 1, 4, 4, 3, 3],\n",
       " [1, 4, 5, 3, 4, 1],\n",
       " [1, 1, 3, 10, 4, 1],\n",
       " [0, 1, 1, 3, 9, 3]]"
      ]
     },
     "execution_count": 25,
     "metadata": {},
     "output_type": "execute_result"
    }
   ],
   "source": [
    "# filter A 적용 후 이미지\n",
    "mat_filtered"
   ]
  },
  {
   "cell_type": "code",
   "execution_count": 26,
   "metadata": {},
   "outputs": [],
   "source": [
    "# 2*2 maxpooling을 stride (2,2)로 적용\n",
    "mat_maxpooled = []\n",
    "for i in range(3):\n",
    "    ls = []\n",
    "    for j in range(3):\n",
    "        val = max(mat_filtered[2*i][2*j], mat_filtered[2*i+1][2*j], mat_filtered[2*i][2*j+1], mat_filtered[2*i+1][2*j+1])\n",
    "        ls.append(val)\n",
    "    mat_maxpooled.append(ls)"
   ]
  },
  {
   "cell_type": "code",
   "execution_count": 27,
   "metadata": {},
   "outputs": [
    {
     "data": {
      "text/plain": [
       "[[5, 5, 5], [4, 5, 4], [1, 10, 9]]"
      ]
     },
     "execution_count": 27,
     "metadata": {},
     "output_type": "execute_result"
    }
   ],
   "source": [
    "# maxpooling 적용 후 이미지\n",
    "mat_maxpooled"
   ]
  },
  {
   "cell_type": "markdown",
   "metadata": {},
   "source": [
    "### 과제 2번\n",
    "\n",
    "1. Layer1의 Kernel size를 4로 늘리고, Layer3의 stride를 2로 늘려라\n",
    "2. Layer3의 Output size를 구하여라\n",
    "3. Cost와 Accuracy가 기존 CNN 모델에 비해 어떻게 변할 것인가?\n",
    "4. 코딩하여 Cost와 Accuracy를 확인해보자!"
   ]
  },
  {
   "cell_type": "code",
   "execution_count": 48,
   "metadata": {},
   "outputs": [
    {
     "data": {
      "text/plain": [
       "<torch._C.Generator at 0x121a18090>"
      ]
     },
     "execution_count": 48,
     "metadata": {},
     "output_type": "execute_result"
    }
   ],
   "source": [
    "torch.manual_seed(777)"
   ]
  },
  {
   "cell_type": "code",
   "execution_count": 49,
   "metadata": {},
   "outputs": [],
   "source": [
    "# 파라미터 설정\n",
    "learning_rate = 0.001\n",
    "training_epochs = 15\n",
    "batch_size = 100"
   ]
  },
  {
   "cell_type": "code",
   "execution_count": 50,
   "metadata": {},
   "outputs": [],
   "source": [
    "# 데이터셋 불러오기\n",
    "mnist_train = dsets.MNIST(root='MNIST_data',\n",
    "                          train=True, \n",
    "                          transform=transforms.ToTensor(),\n",
    "                          download=True)\n",
    "mnist_test = dsets.MNIST(root='MNIST_data',\n",
    "                         train=False, \n",
    "                         transform=transforms.ToTensor(),\n",
    "                         download=True)"
   ]
  },
  {
   "cell_type": "code",
   "execution_count": 51,
   "metadata": {},
   "outputs": [],
   "source": [
    "# data loader\n",
    "data_loader = torch.utils.data.DataLoader(dataset=mnist_train,\n",
    "                                          batch_size=batch_size,\n",
    "                                          shuffle=True,\n",
    "                                          drop_last=True)"
   ]
  },
  {
   "cell_type": "code",
   "execution_count": 53,
   "metadata": {},
   "outputs": [],
   "source": [
    "class CNN(nn.Module):\n",
    "    \n",
    "    def __init__(self):\n",
    "        super(CNN, self).__init__()\n",
    "        \n",
    "        self.layer1 = nn.Sequential(\n",
    "            nn.Conv2d(1, 32, kernel_size=4, stride=1, padding=1),\n",
    "            nn.ReLU(),\n",
    "            nn.MaxPool2d(kernel_size=2, stride=2)\n",
    "        )\n",
    "        self.layer2 = nn.Sequential(\n",
    "            nn.Conv2d(32, 64, kernel_size=3, stride=1, padding=1),\n",
    "            nn.ReLU(),\n",
    "            nn.MaxPool2d(kernel_size=2, stride=2)\n",
    "        )\n",
    "        self.layer3 = nn.Sequential(\n",
    "            nn.Conv2d(64, 128, kernel_size=3, stride=2, padding=1),\n",
    "            nn.ReLU(),\n",
    "            nn.MaxPool2d(kernel_size=2, stride=2, padding=1)\n",
    "        )\n",
    "        self.fc1 = nn.Linear(128*2*2, 625, bias=True)\n",
    "        nn.init.xavier_uniform_(self.fc1.weight)\n",
    "        self.layer4 = nn.Sequential(\n",
    "            self.fc1, \n",
    "            nn.ReLU(),\n",
    "            nn.Dropout(p=0.3)\n",
    "        )\n",
    "        self.fc2 = nn.Linear(625, 10, bias=True)\n",
    "        nn.init.xavier_uniform_(self.fc2.weight)\n",
    "        \n",
    "    def forward(self, x):\n",
    "        out = self.layer1(x.float())\n",
    "        out = self.layer2(out.float())\n",
    "        out = self.layer3(out.float())\n",
    "        out = out.view(out.size(0), -1) # Flatten before FC\n",
    "        out = self.layer4(out)\n",
    "        out = self.fc2(out)\n",
    "        return out"
   ]
  },
  {
   "cell_type": "code",
   "execution_count": 54,
   "metadata": {},
   "outputs": [],
   "source": [
    "model = CNN()"
   ]
  },
  {
   "cell_type": "code",
   "execution_count": 55,
   "metadata": {},
   "outputs": [],
   "source": [
    "# cost & optimizer\n",
    "criterion = nn.CrossEntropyLoss()\n",
    "optimizer = optim.Adam(model.parameters(), lr=learning_rate)"
   ]
  },
  {
   "cell_type": "code",
   "execution_count": 56,
   "metadata": {},
   "outputs": [
    {
     "name": "stdout",
     "output_type": "stream",
     "text": [
      "[Epoch:    1] cost = 0.243409455\n",
      "[Epoch:    2] cost = 0.0625862181\n",
      "[Epoch:    3] cost = 0.0428103581\n",
      "[Epoch:    4] cost = 0.0314080901\n",
      "[Epoch:    5] cost = 0.0271734335\n",
      "[Epoch:    6] cost = 0.0211458337\n",
      "[Epoch:    7] cost = 0.0187178925\n",
      "[Epoch:    8] cost = 0.0161897969\n",
      "[Epoch:    9] cost = 0.013910831\n",
      "[Epoch:   10] cost = 0.0132223396\n",
      "[Epoch:   11] cost = 0.00972700864\n",
      "[Epoch:   12] cost = 0.00994654559\n",
      "[Epoch:   13] cost = 0.0107850786\n",
      "[Epoch:   14] cost = 0.00808450952\n",
      "[Epoch:   15] cost = 0.0101576112\n",
      "Learning Finished!\n"
     ]
    }
   ],
   "source": [
    "# training\n",
    "total_batch = len(data_loader)\n",
    "for epoch in range(training_epochs):\n",
    "    avg_cost = 0\n",
    "    \n",
    "    for X, Y in data_loader:\n",
    "        \n",
    "        optimizer.zero_grad()\n",
    "        \n",
    "        hypothesis = model(X)\n",
    "        \n",
    "        cost = criterion(hypothesis, Y)\n",
    "        cost.backward()\n",
    "        optimizer.step()\n",
    "        \n",
    "        avg_cost += cost / total_batch\n",
    "        \n",
    "    print('[Epoch: {:>4}] cost = {:>.9}'.format(epoch+1, avg_cost))\n",
    "    \n",
    "print('Learning Finished!')"
   ]
  },
  {
   "cell_type": "code",
   "execution_count": 58,
   "metadata": {},
   "outputs": [
    {
     "name": "stderr",
     "output_type": "stream",
     "text": [
      "/Users/kimchaehyeong/.pyenv/versions/anaconda3-5.3.0/lib/python3.7/site-packages/torchvision/datasets/mnist.py:60: UserWarning: test_data has been renamed data\n",
      "  warnings.warn(\"test_data has been renamed data\")\n",
      "/Users/kimchaehyeong/.pyenv/versions/anaconda3-5.3.0/lib/python3.7/site-packages/torchvision/datasets/mnist.py:50: UserWarning: test_labels has been renamed targets\n",
      "  warnings.warn(\"test_labels has been renamed targets\")\n"
     ]
    },
    {
     "name": "stdout",
     "output_type": "stream",
     "text": [
      "Accuracy: 0.9848999977111816\n"
     ]
    }
   ],
   "source": [
    "# accuracy\n",
    "with torch.no_grad():\n",
    "    X_test = mnist_test.test_data.view(len(mnist_test), 1, 28, 28)\n",
    "    Y_test = mnist_test.test_labels\n",
    "    \n",
    "    prediction = model(X_test)\n",
    "    correct_prediction = torch.argmax(prediction, 1) == Y_test\n",
    "    accuracy = correct_prediction.float().mean()\n",
    "    print('Accuracy:', accuracy.item())"
   ]
  },
  {
   "cell_type": "markdown",
   "metadata": {},
   "source": [
    "기존 모델 : cost = 0.0030285837 / accuracy = 0.988099992275238  \n",
    "바꾼 모델 : cost = 0.0101576112 / accuracy = 0.9848999977111816"
   ]
  }
 ],
 "metadata": {
  "kernelspec": {
   "display_name": "Python 3",
   "language": "python",
   "name": "python3"
  },
  "language_info": {
   "codemirror_mode": {
    "name": "ipython",
    "version": 3
   },
   "file_extension": ".py",
   "mimetype": "text/x-python",
   "name": "python",
   "nbconvert_exporter": "python",
   "pygments_lexer": "ipython3",
   "version": "3.7.2"
  }
 },
 "nbformat": 4,
 "nbformat_minor": 4
}
