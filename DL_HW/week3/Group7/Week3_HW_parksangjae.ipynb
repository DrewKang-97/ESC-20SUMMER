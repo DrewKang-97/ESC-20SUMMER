{
 "cells": [
  {
   "cell_type": "markdown",
   "metadata": {},
   "source": [
    "   ## WEEK3 HW 박상재"
   ]
  },
  {
   "cell_type": "markdown",
   "metadata": {},
   "source": [
    "1번문제"
   ]
  },
  {
   "cell_type": "code",
   "execution_count": null,
   "metadata": {},
   "outputs": [],
   "source": [
    "import torch\n",
    "import torch.nn as nn"
   ]
  },
  {
   "cell_type": "code",
   "execution_count": 55,
   "metadata": {},
   "outputs": [],
   "source": [
    "image=torch.Tensor([[[2,0,2,1,3,2],\n",
    "                   [0,2,0,2,2,2],\n",
    "                   [1,0,1,3,1,1],\n",
    "                   [0,0,1,1,1,0],\n",
    "                   [0,1,3,4,1,0],\n",
    "                   [0,1,0,0,5,2]]])"
   ]
  },
  {
   "cell_type": "code",
   "execution_count": 56,
   "metadata": {
    "scrolled": true
   },
   "outputs": [
    {
     "data": {
      "text/plain": [
       "tensor([[[2., 0., 2., 1., 3., 2.],\n",
       "         [0., 2., 0., 2., 2., 2.],\n",
       "         [1., 0., 1., 3., 1., 1.],\n",
       "         [0., 0., 1., 1., 1., 0.],\n",
       "         [0., 1., 3., 4., 1., 0.],\n",
       "         [0., 1., 0., 0., 5., 2.]]])"
      ]
     },
     "execution_count": 56,
     "metadata": {},
     "output_type": "execute_result"
    }
   ],
   "source": [
    "image"
   ]
  },
  {
   "cell_type": "code",
   "execution_count": 57,
   "metadata": {},
   "outputs": [],
   "source": [
    "image_conv=torch.Tensor([[[4,0,4,3,5,2],\n",
    "                        [0,5,3,5,4,5],\n",
    "                        [1,1,4,4,3,3],\n",
    "                        [1,4,5,3,4,1],\n",
    "                        [1,1,3,10,4,1],\n",
    "                        [0,1,1,3,9,3]]])"
   ]
  },
  {
   "cell_type": "code",
   "execution_count": 58,
   "metadata": {},
   "outputs": [
    {
     "data": {
      "text/plain": [
       "tensor([[[ 4.,  0.,  4.,  3.,  5.,  2.],\n",
       "         [ 0.,  5.,  3.,  5.,  4.,  5.],\n",
       "         [ 1.,  1.,  4.,  4.,  3.,  3.],\n",
       "         [ 1.,  4.,  5.,  3.,  4.,  1.],\n",
       "         [ 1.,  1.,  3., 10.,  4.,  1.],\n",
       "         [ 0.,  1.,  1.,  3.,  9.,  3.]]])"
      ]
     },
     "execution_count": 58,
     "metadata": {},
     "output_type": "execute_result"
    }
   ],
   "source": [
    "image_conv"
   ]
  },
  {
   "cell_type": "code",
   "execution_count": 59,
   "metadata": {},
   "outputs": [],
   "source": [
    "pool=torch.nn.MaxPool2d(2)"
   ]
  },
  {
   "cell_type": "code",
   "execution_count": 60,
   "metadata": {},
   "outputs": [],
   "source": [
    "out=pool(image_conv)"
   ]
  },
  {
   "cell_type": "code",
   "execution_count": 54,
   "metadata": {},
   "outputs": [
    {
     "data": {
      "text/plain": [
       "tensor([[[ 5.,  5.,  5.],\n",
       "         [ 4.,  5.,  4.],\n",
       "         [ 1., 10.,  9.]]])"
      ]
     },
     "execution_count": 54,
     "metadata": {},
     "output_type": "execute_result"
    }
   ],
   "source": [
    "out"
   ]
  },
  {
   "cell_type": "markdown",
   "metadata": {},
   "source": [
    "2번문제"
   ]
  },
  {
   "cell_type": "code",
   "execution_count": 93,
   "metadata": {},
   "outputs": [],
   "source": [
    "import torch\n",
    "import torchvision.datasets as dsets\n",
    "import torchvision.transforms as transforms\n",
    "import torch.nn.init\n",
    "\n",
    "device ='cuda' if torch.cuda.is_available() else 'cpu'\n",
    "\n",
    "torch.manual_seed(777)\n",
    "if device == 'cuda':\n",
    "    torch.cuda.manual_seed_all(777)"
   ]
  },
  {
   "cell_type": "code",
   "execution_count": 94,
   "metadata": {},
   "outputs": [],
   "source": [
    "#학습에 사용되는 parameters 설정\n",
    "learning_rate = 0.001\n",
    "training_epochs = 15\n",
    "batch_size = 100"
   ]
  },
  {
   "cell_type": "code",
   "execution_count": 95,
   "metadata": {},
   "outputs": [],
   "source": [
    "#MNIST 데이터셋 가져오기\n",
    "mnist_train = dsets.MNIST(root='MNIST_data/',\n",
    "                         train=True,\n",
    "                         transform=transforms.ToTensor(),\n",
    "                         download=True)\n",
    "\n",
    "mnist_test = dsets.MNIST(root='MNIST_data/',\n",
    "                         train=False,\n",
    "                         transform=transforms.ToTensor(),\n",
    "                         download=True)"
   ]
  },
  {
   "cell_type": "code",
   "execution_count": 96,
   "metadata": {},
   "outputs": [],
   "source": [
    "#dataset loader 만들기\n",
    "data_loader=torch.utils.data.DataLoader(dataset=mnist_train,\n",
    "                                       batch_size=batch_size,\n",
    "                                       shuffle=True,\n",
    "                                       drop_last=True)"
   ]
  },
  {
   "cell_type": "markdown",
   "metadata": {},
   "source": [
    "2-1 Layer1의 Kernel size를 4로 늘리고, Layer3의 stride를 2로 늘려라"
   ]
  },
  {
   "cell_type": "code",
   "execution_count": 117,
   "metadata": {},
   "outputs": [],
   "source": [
    "class CNN(torch.nn.Module):\n",
    "    def __init__(self):\n",
    "        super(CNN,self).__init__()\n",
    "        \n",
    "        self.keep_prob = 0.5\n",
    "        \n",
    "        self.layer1=torch.nn.Sequential(\n",
    "            torch.nn.Conv2d(1,32,kernel_size=4,stride=1,padding=1),\n",
    "            torch.nn.ReLU(),\n",
    "            torch.nn.MaxPool2d(kernel_size=2,stride=2))\n",
    "        \n",
    "        self.layer2=torch.nn.Sequential(\n",
    "            torch.nn.Conv2d(32,64,kernel_size=3,stride=1,padding=1),\n",
    "            torch.nn.ReLU(),\n",
    "            torch.nn.MaxPool2d(kernel_size=2,stride=2))\n",
    "        \n",
    "        self.layer3=torch.nn.Sequential(\n",
    "            torch.nn.Conv2d(64,128,kernel_size=3,stride=2,padding=1),\n",
    "            torch.nn.ReLU(),\n",
    "            torch.nn.MaxPool2d(kernel_size=2,stride=2,padding=1))\n",
    "        \n",
    "\n",
    "        self.fc1=torch.nn.Linear(2*2*128,625,bias=True)\n",
    "        torch.nn.init.xavier_uniform_(self.fc1.weight)\n",
    "        \n",
    "        self.layer4=torch.nn.Sequential(\n",
    "            self.fc1,\n",
    "            torch.nn.ReLU(),\n",
    "            torch.nn.Dropout(p=1-self.keep_prob))\n",
    "        \n",
    "        self.fc2= torch.nn.Linear(625,10,bias=True)\n",
    "        torch.nn.init.xavier_uniform_(self.fc2.weight)\n",
    "\n",
    "    def forward(self,x):\n",
    "        out=self.layer1(x)\n",
    "        out=self.layer2(out)\n",
    "        out=self.layer3(out)\n",
    "        out=out.view(out.size(0),-1) #fc를 위해 faltten\n",
    "        out=self.layer4(out)\n",
    "        out=self.fc2(out)\n",
    "        return out"
   ]
  },
  {
   "cell_type": "markdown",
   "metadata": {},
   "source": [
    "2-2 Layer3의 Output size를 구하여라"
   ]
  },
  {
   "cell_type": "code",
   "execution_count": 118,
   "metadata": {},
   "outputs": [
    {
     "name": "stdout",
     "output_type": "stream",
     "text": [
      "torch.Size([1, 32, 27, 27]) \n",
      " torch.Size([1, 32, 13, 13]) \n",
      " torch.Size([1, 64, 13, 13]) \n",
      " torch.Size([1, 64, 6, 6]) \n",
      " torch.Size([1, 128, 3, 3]) \n",
      " torch.Size([1, 128, 2, 2]) \n",
      "\n"
     ]
    }
   ],
   "source": [
    "input=torch.FloatTensor(1,1,28,28)\n",
    "conv1=torch.nn.Conv2d(1,32,kernel_size=4,stride=1,padding=1)\n",
    "conv2=torch.nn.Conv2d(32,64,kernel_size=3,stride=1,padding=1)\n",
    "conv3=torch.nn.Conv2d(64,128,kernel_size=3,stride=2,padding=1)\n",
    "pool=torch.nn.MaxPool2d(kernel_size=2,stride=2)\n",
    "pool_pad=torch.nn.MaxPool2d(kernel_size=2,stride=2,padding=1)\n",
    "\n",
    "out1=conv1(input)\n",
    "out2=pool(out1)\n",
    "out2.shape\n",
    "out3=conv2(out2)\n",
    "out4=pool(out3)\n",
    "out5=conv3(out4)\n",
    "out6=pool_pad(out5)\n",
    "print(out1.shape,'\\n',\n",
    "      out2.shape,'\\n',\n",
    "      out3.shape,'\\n',\n",
    "      out4.shape,'\\n',\n",
    "      out5.shape,'\\n',\n",
    "      out6.shape,'\\n',)"
   ]
  },
  {
   "cell_type": "code",
   "execution_count": 119,
   "metadata": {},
   "outputs": [],
   "source": [
    "model=CNN()\n",
    "#loss function, optimizer 선택\n",
    "criterion = torch.nn.CrossEntropyLoss()\n",
    "optimizer = torch.optim.Adam(model.parameters(),lr=learning_rate)"
   ]
  },
  {
   "cell_type": "code",
   "execution_count": 120,
   "metadata": {},
   "outputs": [
    {
     "name": "stdout",
     "output_type": "stream",
     "text": [
      "Learning started\n",
      "[Epoch:    1] cost=0.251809567\n",
      "[Epoch:    2] cost=0.0678042546\n",
      "[Epoch:    3] cost=0.047202073\n",
      "[Epoch:    4] cost=0.0365661718\n",
      "[Epoch:    5] cost=0.0296426006\n",
      "[Epoch:    6] cost=0.0242779981\n",
      "[Epoch:    7] cost=0.0212091766\n",
      "[Epoch:    8] cost=0.0195036866\n",
      "[Epoch:    9] cost=0.0163822584\n",
      "[Epoch:   10] cost=0.0158765558\n",
      "[Epoch:   11] cost=0.0139919017\n",
      "[Epoch:   12] cost=0.0114730056\n",
      "[Epoch:   13] cost=0.0116501097\n",
      "[Epoch:   14] cost=0.0105896313\n",
      "[Epoch:   15] cost=0.0110794595\n",
      "Learning Finished\n"
     ]
    }
   ],
   "source": [
    "total_batch=len(data_loader)\n",
    "print('Learning started')\n",
    "for epoch in range(training_epochs):\n",
    "    avg_cost=0\n",
    "    \n",
    "    for X,Y in data_loader:\n",
    "        #이미지는 28x28이므로 reshape 해줄 필요가 없다. 크기 다르면 X.view(-1,28*28)\n",
    "        #label is not one-hot enconded\n",
    "        X=X\n",
    "        Y=Y\n",
    "        \n",
    "        optimizer.zero_grad()\n",
    "        hypothesis=model(X)\n",
    "        cost=criterion(hypothesis,Y)\n",
    "        cost.backward()\n",
    "        optimizer.step()\n",
    "        \n",
    "        avg_cost+=cost/total_batch\n",
    "        \n",
    "    print('[Epoch: {:>4}] cost={:>.9}'.format(epoch+1,avg_cost))\n",
    "print('Learning Finished')"
   ]
  },
  {
   "cell_type": "markdown",
   "metadata": {},
   "source": [
    "#기존 모델의 cost\n",
    " Learning started\n",
    " \n",
    " [Epoch:    1] cost=0.316445887\n",
    " \n",
    " [Epoch:    2] cost=0.0742798969\n",
    " \n",
    " [Epoch:    3] cost=0.0542666502\n",
    " \n",
    " [Epoch:    4] cost=0.0439512655\n",
    " \n",
    " [Epoch:    5] cost=0.0363897085\n",
    " \n",
    " [Epoch:    6] cost=0.0307028312\n",
    " \n",
    " [Epoch:    7] cost=0.0256947763\n",
    " \n",
    " [Epoch:    8] cost=0.0223205276\n",
    " \n",
    " [Epoch:    9] cost=0.0186817795\n",
    " \n",
    " [Epoch:   10] cost=0.0156495944\n",
    " \n",
    " [Epoch:   11] cost=0.0137053365\n",
    " \n",
    " [Epoch:   12] cost=0.0115955742\n",
    " \n",
    " [Epoch:   13] cost=0.00855956785\n",
    " \n",
    " [Epoch:   14] cost=0.00930883642\n",
    " \n",
    " [Epoch:   15] cost=0.00790862832\n",
    " Learning Finished"
   ]
  },
  {
   "cell_type": "code",
   "execution_count": 122,
   "metadata": {},
   "outputs": [
    {
     "name": "stderr",
     "output_type": "stream",
     "text": [
      "C:\\Users\\psj\\anaconda3\\envs\\esc\\lib\\site-packages\\torchvision\\datasets\\mnist.py:60: UserWarning: test_data has been renamed data\n",
      "  warnings.warn(\"test_data has been renamed data\")\n",
      "C:\\Users\\psj\\anaconda3\\envs\\esc\\lib\\site-packages\\torchvision\\datasets\\mnist.py:50: UserWarning: test_labels has been renamed targets\n",
      "  warnings.warn(\"test_labels has been renamed targets\")\n"
     ]
    },
    {
     "name": "stdout",
     "output_type": "stream",
     "text": [
      "Accuracy: 0.9887999892234802\n"
     ]
    }
   ],
   "source": [
    "with torch.no_grad():\n",
    "    X_test=mnist_test.test_data.view(len(mnist_test),1,28,28).float()\n",
    "    Y_test=mnist_test.test_labels\n",
    "    \n",
    "    prediction=model(X_test)\n",
    "    correct_prediction=torch.argmax(prediction,1)== Y_test\n",
    "    accuracy=correct_prediction.float().mean()\n",
    "    print('Accuracy:',accuracy.item())"
   ]
  },
  {
   "cell_type": "markdown",
   "metadata": {},
   "source": [
    "기존 모델의 accuracy\n",
    "\n",
    "Accuracy: 0.9848999977111816"
   ]
  },
  {
   "cell_type": "markdown",
   "metadata": {},
   "source": [
    "2-3 Cost와 accuracy가 기존 CNN모델에 비해 어떻게 변할 것인가?\n",
    "\n",
    "더 Deep 하게 쌓았기 때문에 accuracy는 높아질 것이라고 생각하고\n",
    "cost는 기존 모델에 의해 underfitting되었는지 overfitting 되었는지 모르기 때문에 정확히 예측 할 수 없었다."
   ]
  },
  {
   "cell_type": "markdown",
   "metadata": {},
   "source": [
    "2-4 코딩하여 cost와 accuracy를 확인해보자!\n",
    "\n",
    "cost는 증가 했지만 accuracy도 증가했다."
   ]
  }
 ],
 "metadata": {
  "kernelspec": {
   "display_name": "Python 3",
   "language": "python",
   "name": "python3"
  },
  "language_info": {
   "codemirror_mode": {
    "name": "ipython",
    "version": 3
   },
   "file_extension": ".py",
   "mimetype": "text/x-python",
   "name": "python",
   "nbconvert_exporter": "python",
   "pygments_lexer": "ipython3",
   "version": "3.8.3"
  }
 },
 "nbformat": 4,
 "nbformat_minor": 4
}
